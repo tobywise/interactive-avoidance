{
 "cells": [
  {
   "cell_type": "markdown",
   "metadata": {},
   "source": [
    "# **Modeling the mind of a predator: Interactive cognitive maps support flexible avoidance of dynamic threats**\n",
    "\n",
    "### Toby Wise, Caroline J Charpentier, Peter Dayan & Dean Mobbs\n",
    "\n",
    "## Analysis notebook 3 - Inverse reinforcement learning models\n",
    "\n",
    "This notebook contains code for modelling of reward weight estimation using inverse reinforcement learning."
   ]
  },
  {
   "cell_type": "code",
   "execution_count": 13,
   "metadata": {},
   "outputs": [],
   "source": [
    "import pandas as pd\n",
    "import seaborn as sns\n",
    "import os\n",
    "import pingouin as pg\n",
    "import matplotlib.pyplot as plt\n",
    "from maMDP.env_io import *\n",
    "from maMDP.env_io import hex_environment_from_dict\n",
    "import sys\n",
    "sys.path.append(\"../../code\") \n",
    "from utils import load_irl_model_fits\n",
    "import matplotlib\n",
    "matplotlib.style.use('toby')\n",
    "matplotlib.rcParams['font.weight'] = 'normal'\n",
    "pal = plt.rcParams['axes.prop_cycle'].by_key()['color']\n",
    "plt.rcParams[\"font.family\"] = \"Heebo\""
   ]
  },
  {
   "cell_type": "markdown",
   "metadata": {},
   "source": [
    "## Load in data"
   ]
  },
  {
   "cell_type": "code",
   "execution_count": 2,
   "metadata": {},
   "outputs": [],
   "source": [
    "rating_dfs = []\n",
    "rt_dfs = []\n",
    "confidence_dfs = []\n",
    "prediction_dfs = []\n",
    "response_dfs = []\n",
    "\n",
    "output_dir = '../../data/'\n",
    "experiment = 'experiment-1'\n",
    "\n",
    "data_dfs = {'rating_data': rating_dfs, 'rt_data': rt_dfs, 'confidence_data': confidence_dfs, 'prediction_data': prediction_dfs, 'response_data': response_dfs}\n",
    "\n",
    "for data_type, df_list in data_dfs.items():\n",
    "    \n",
    "    data_type_dir = os.path.join(output_dir, data_type, experiment)\n",
    "    \n",
    "    conditions = os.listdir(data_type_dir)\n",
    "    \n",
    "    for c in conditions:\n",
    "        for i in os.listdir(os.path.join(data_type_dir, c)):\n",
    "            if '.csv' in i:\n",
    "                df = pd.read_csv(os.path.join(data_type_dir, c, i))\n",
    "                df_list.append(df)\n",
    "\n",
    "rating_df = pd.concat(rating_dfs)\n",
    "rt_df = pd.concat(rt_dfs)\n",
    "confidence_df = pd.concat(confidence_dfs)\n",
    "prediction_df = pd.concat(prediction_dfs)\n",
    "response_df = pd.concat(response_dfs)"
   ]
  },
  {
   "cell_type": "code",
   "execution_count": 3,
   "metadata": {},
   "outputs": [],
   "source": [
    "prediction_df = prediction_df.sort_values(['subjectID', 'exp', 'condition', 'env', 'trial', 'response_number']).reset_index(drop=True)\n",
    "response_df = response_df.sort_values(['agent', 'subjectID', 'exp', 'condition', 'env', 'trial', 'response_number']).reset_index(drop=True)"
   ]
  },
  {
   "cell_type": "markdown",
   "metadata": {},
   "source": [
    "## Load environment data"
   ]
  },
  {
   "cell_type": "code",
   "execution_count": 4,
   "metadata": {},
   "outputs": [],
   "source": [
    "envs = {}\n",
    "for cond in ['A', 'B', 'C']:\n",
    "    with open('../../data/game_info/experiment-1/condition_{0}.json'.format(cond), 'r') as f:\n",
    "        game_info = json.load(f)\n",
    "    envs[cond] = [hex_environment_from_dict(env, ['Dirt', 'Trees', 'Reward']) for env in game_info['environments']]"
   ]
  },
  {
   "cell_type": "markdown",
   "metadata": {},
   "source": [
    "### Get predator/prey data"
   ]
  },
  {
   "cell_type": "code",
   "execution_count": 5,
   "metadata": {},
   "outputs": [],
   "source": [
    "predator_df = response_df[response_df['agent'] == 'predator']\n",
    "prey_df = response_df[response_df['agent'] == 'prey']\n",
    "rating_df['feature_index'] = rating_df['feature'].replace({'red': 0, 'trees': 1, 'prey': 2})\n",
    "rating_df = rating_df[rating_df['env'] == 3]  # This is just used to get subject IDs, so we select one random environment"
   ]
  },
  {
   "cell_type": "markdown",
   "metadata": {},
   "source": [
    "## Set up parameters to test\n",
    "\n",
    "This code is largely redundant and basically just creates a list of subject IDs for the fitting script.\n",
    "\n",
    "The model fitting itself basically performs a grid search procedure using [Inverse Binomial Sampling](https://journals.plos.org/ploscompbiol/article?id=10.1371/journal.pcbi.1008483), hence the need for a range of parameter values to try out."
   ]
  },
  {
   "cell_type": "code",
   "execution_count": 9,
   "metadata": {},
   "outputs": [],
   "source": [
    "# Candidate learning rate decays and learning rates are done in the fitting script - these were originally set here but were since moved, hence the awkward left over code that I never got round to tidying up.\n",
    "decays = [0]\n",
    "\n",
    "param_df = pd.DataFrame(decays)\n",
    "param_df.columns = ['learning_rate_decay']\n",
    "\n",
    "param_dfs = []\n",
    "\n",
    "for sub in rating_df['subjectID'].unique():\n",
    "    sub_param_df = param_df.copy()\n",
    "    sub_param_df['subjectID'] = sub\n",
    "    param_dfs.append(sub_param_df)\n",
    "    \n",
    "param_dfs = pd.concat(param_dfs)\n",
    "\n",
    "# param_dfs.to_csv('../../data/IRL_runs.csv', index=False)"
   ]
  },
  {
   "cell_type": "markdown",
   "metadata": {},
   "source": [
    "## Model fitting\n",
    "\n",
    "All the inverse reinforcement learning models are fit using the `run_irl_model_fit.py` script in the `~/code` directory. This is fairly computationally intensive, so this procedure is run independently of this notebook to take advantage of HPC parallel computing."
   ]
  },
  {
   "cell_type": "markdown",
   "metadata": {},
   "source": [
    "## Load in results of model fitting"
   ]
  },
  {
   "cell_type": "code",
   "execution_count": 14,
   "metadata": {},
   "outputs": [],
   "source": [
    "observed_weight_df, model_weight_df = load_irl_model_fits('../../data/irl_fits/experiment-1/')"
   ]
  },
  {
   "cell_type": "markdown",
   "metadata": {},
   "source": [
    "### Plot observed ratings"
   ]
  },
  {
   "cell_type": "code",
   "execution_count": 11,
   "metadata": {},
   "outputs": [
    {
     "name": "stderr",
     "output_type": "stream",
     "text": [
      "c:\\Users\\tobyw\\Miniconda3\\envs\\mne\\lib\\site-packages\\seaborn\\_decorators.py:36: FutureWarning: Pass the following variables as keyword args: x, y. From version 0.12, the only valid positional argument will be `data`, and passing other arguments without an explicit keyword will result in an error or misinterpretation.\n",
      "  warnings.warn(\n"
     ]
    },
    {
     "data": {
      "image/png": "[encoded data removed]",
      "text/plain": [
       "<Figure size 129.6x432 with 3 Axes>"
      ]
     },
     "metadata": {},
     "output_type": "display_data"
    }
   ],
   "source": [
    "sns.catplot('Feature', 'Weight', data=observed_weight_df, row='condition', kind='bar', height=1.8, aspect=.9, row_order=['A', 'B', 'C'], capsize=.05, errwidth=0.8).set_titles(\"Cond {row_name}\")\n",
    "plt.tight_layout()"
   ]
  },
  {
   "cell_type": "markdown",
   "metadata": {},
   "source": [
    "### Combine observed and predicted weights into a single dataframe"
   ]
  },
  {
   "cell_type": "code",
   "execution_count": 28,
   "metadata": {},
   "outputs": [],
   "source": [
    "model_weight_df = model_weight_df.append(observed_weight_df)\n",
    "model_weight_df = model_weight_df.replace({'observed': 'Observed'})"
   ]
  },
  {
   "cell_type": "markdown",
   "metadata": {},
   "source": [
    "### Plot model predictions"
   ]
  },
  {
   "cell_type": "code",
   "execution_count": 79,
   "metadata": {},
   "outputs": [
    {
     "data": {
      "image/png": "[encoded data removed]",
      "text/plain": [
       "<Figure size 576x360 with 18 Axes>"
      ]
     },
     "metadata": {},
     "output_type": "display_data"
    }
   ],
   "source": [
    "g = sns.catplot(x='Feature', y='Weight', data=model_weight_df, col='model', row='condition', kind='bar', height=1.5, aspect=.8, alpha=0.8,\n",
    "                col_order=model_weight_df['model'].unique().tolist()[:3] + model_weight_df['model'].unique().tolist()[3:5][::-1] + [model_weight_df['model'].unique().tolist()[-1]], linewidth=.5, edgecolor='black', \n",
    "                row_order=['A', 'B', 'C'], capsize=.05, errwidth=0.8).set_titles(\"{col_name}\")\n",
    "for i in range(3):\n",
    "    g.axes[i, -1].set_title(g.axes[i, -1].get_title(), fontweight='normal', color='#0752a3')\n",
    "    if i > 0:\n",
    "        for j in g.axes[i, :]:\n",
    "            j.set_title('')\n",
    "            \n",
    "g.axes[0, -1].text(3.5, 0, 'Prefers\\ntrees', rotation=270, clip_on=False, verticalalignment='center', horizontalalignment='center', fontweight='normal', fontsize=12)\n",
    "g.axes[1, -1].text(3.5, 0, 'Prefers\\nred', rotation=270, clip_on=False, verticalalignment='center', horizontalalignment='center', fontweight='normal', fontsize=12)\n",
    "g.axes[2, -1].text(3.5, 0, 'Prefers\\nprey', rotation=270, clip_on=False, verticalalignment='center', horizontalalignment='center', fontweight='normal', fontsize=12)\n",
    "\n",
    "plt.tight_layout()\n",
    "plt.savefig('../../figures/Figure-3_IRL_model_predictions.svg')"
   ]
  },
  {
   "cell_type": "markdown",
   "metadata": {},
   "source": [
    "### Calculate $R^2$ and BIC\n"
   ]
  },
  {
   "cell_type": "code",
   "execution_count": 29,
   "metadata": {},
   "outputs": [],
   "source": [
    "from itertools import product\n",
    "\n",
    "fit_results['parameters'] = ''\n",
    "\n",
    "for learning_rate, decay in product(fit_results['max_ent_learning_rate'].unique().tolist(), fit_results['max_ent_learning_rate_decay'].unique().tolist()):\n",
    "    for model in fit_results['model'].unique():\n",
    "        fit_results.loc[(fit_results['model'] == model) & (fit_results['max_ent_learning_rate'] == learning_rate) & (fit_results['max_ent_learning_rate_decay'] == decay), 'parameters'] = '{0}_{1}'.format(learning_rate, decay)\n",
    "        \n",
    "for condition in ['A', 'B', 'C']:\n",
    "    for model_id, model in enumerate(fit_results['model'].unique()):\n",
    "        model_cond_df = fit_results[(fit_results['model'] == model) & (fit_results['condition'] == condition)]\n",
    "        assert len(model_cond_df['subjectID'].unique()) == 50, 'Condition {0} model {1} missing data'.format(condition, model)\n",
    "        \n",
    "fit_results.loc[fit_results['model'] == 'HypTest', 'parameters'] = 1\n",
    "\n",
    "def adjusted_r2(r2, n, p):\n",
    "    return 1 - (1 - r2) * ((n - 1) / (n - p - 1))\n",
    "\n",
    "condition_r2s = {\n",
    "    'model': [],\n",
    "    'condition': [],\n",
    "    'r2': [],\n",
    "    'adjusted_r2': [],\n",
    "    'parameters': [],\n",
    "    'model_id': [],\n",
    "    'bic': []\n",
    "}\n",
    "\n",
    "model_params = {\n",
    "    'MF': 0,\n",
    "    'MF_direction': 0,\n",
    "    'MF_relative_direction': 0,\n",
    "    'MaxEnt': 2,\n",
    "    'HypTest': 0\n",
    "}\n",
    "\n",
    "for condition in ['A', 'B', 'C']:\n",
    "    for model_id, model in enumerate(fit_results['model'].unique()):\n",
    "        \n",
    "        p = model_params[model]\n",
    "        \n",
    "        if model == 'MaxEnt':\n",
    "            for parameters in fit_results.loc[(fit_results['model'] == model) & (fit_results['condition'] == condition), 'parameters'].unique():\n",
    "                true = fit_results.loc[(fit_results['model'] == model) & (fit_results['condition'] == condition) & (fit_results['parameters'] == parameters), ['f1_true', 'f2_true', 'f3_true']].values.flatten()\n",
    "                pred = fit_results.loc[(fit_results['model'] == model) & (fit_results['condition'] == condition) & (fit_results['parameters'] == parameters), ['f1', 'f2', 'f3']].values.flatten()\n",
    "                \n",
    "                # MaxEnt values are invalid for condition C\n",
    "                if model == 'MaxEnt' and condition == 'C':\n",
    "                    r2 = np.nan\n",
    "                else:\n",
    "                    r2 = r2_score(true, pred)\n",
    "                n = len(true)         \n",
    "                bic = len(true) * np.log(np.square(np.abs(true - pred)).sum() / len(true)) + p * np.log(len(true))\n",
    "\n",
    "                condition_r2s['parameters'].append(parameters)\n",
    "                condition_r2s['model'].append(model.replace('_', '\\n'))\n",
    "                condition_r2s['model_id'].append(model_id)\n",
    "                condition_r2s['condition'].append(condition)\n",
    "                condition_r2s['r2'].append(r2)\n",
    "                condition_r2s['adjusted_r2'].append(adjusted_r2(r2, n, p))\n",
    "                condition_r2s['bic'].append(bic)\n",
    "                \n",
    "        else:\n",
    "            true = fit_results.loc[(fit_results['model'] == model) & (fit_results['condition'] == condition), ['f1_true', 'f2_true', 'f3_true']].values.flatten()\n",
    "            pred =  fit_results.loc[(fit_results['model'] == model) & (fit_results['condition'] == condition), ['f1', 'f2', 'f3']].values.flatten()\n",
    "            \n",
    "            r2 = r2_score(true, pred)\n",
    "            n = len(true)\n",
    "            bic = len(true) * np.log(np.square(np.abs(true - pred)).sum() / len(true)) + p * np.log(len(true))\n",
    "            \n",
    "            condition_r2s['parameters'].append('NA')\n",
    "            condition_r2s['model'].append(model.replace('_', '\\n'))\n",
    "            condition_r2s['model_id'].append(model_id)\n",
    "            condition_r2s['condition'].append(condition)\n",
    "            condition_r2s['r2'].append(r2)\n",
    "            condition_r2s['adjusted_r2'].append(adjusted_r2(r2, n, p)) \n",
    "            condition_r2s['bic'].append(bic)\n",
    "\n",
    "condition_r2s = pd.DataFrame(condition_r2s)\n",
    "\n",
    "condition_r2s['condition_label'] = condition_r2s['condition']\n",
    "condition_r2s.loc[condition_r2s['condition'] == 'A', 'condition_label'] = condition_r2s.loc[condition_r2s['condition'] == 'A', 'condition_label'] + '\\n(prefers trees)'\n",
    "condition_r2s.loc[condition_r2s['condition'] == 'B', 'condition_label'] = condition_r2s.loc[condition_r2s['condition'] == 'B', 'condition_label'] + '\\n(prefers red)'\n",
    "condition_r2s.loc[condition_r2s['condition'] == 'C', 'condition_label'] = condition_r2s.loc[condition_r2s['condition'] == 'C', 'condition_label'] + '\\n(prefers prey)'"
   ]
  },
  {
   "cell_type": "code",
   "execution_count": 35,
   "metadata": {},
   "outputs": [
    {
     "data": {
      "text/html": [
       "<div>\n",
       "<style scoped>\n",
       "    .dataframe tbody tr th:only-of-type {\n",
       "        vertical-align: middle;\n",
       "    }\n",
       "\n",
       "    .dataframe tbody tr th {\n",
       "        vertical-align: top;\n",
       "    }\n",
       "\n",
       "    .dataframe thead th {\n",
       "        text-align: right;\n",
       "    }\n",
       "</style>\n",
       "<table border=\"1\" class=\"dataframe\">\n",
       "  <thead>\n",
       "    <tr style=\"text-align: right;\">\n",
       "      <th></th>\n",
       "      <th>r2</th>\n",
       "      <th>adjusted_r2</th>\n",
       "      <th>model_id</th>\n",
       "      <th>bic</th>\n",
       "    </tr>\n",
       "    <tr>\n",
       "      <th>model</th>\n",
       "      <th></th>\n",
       "      <th></th>\n",
       "      <th></th>\n",
       "      <th></th>\n",
       "    </tr>\n",
       "  </thead>\n",
       "  <tbody>\n",
       "    <tr>\n",
       "      <th>HypTest</th>\n",
       "      <td>0.090129</td>\n",
       "      <td>0.090129</td>\n",
       "      <td>3.0</td>\n",
       "      <td>232.980025</td>\n",
       "    </tr>\n",
       "    <tr>\n",
       "      <th>MF</th>\n",
       "      <td>-0.492362</td>\n",
       "      <td>-0.492362</td>\n",
       "      <td>0.0</td>\n",
       "      <td>308.972538</td>\n",
       "    </tr>\n",
       "    <tr>\n",
       "      <th>MF\\ndirection</th>\n",
       "      <td>-0.401438</td>\n",
       "      <td>-0.401438</td>\n",
       "      <td>1.0</td>\n",
       "      <td>299.718385</td>\n",
       "    </tr>\n",
       "    <tr>\n",
       "      <th>MF\\nrelative\\ndirection</th>\n",
       "      <td>-0.692765</td>\n",
       "      <td>-0.692765</td>\n",
       "      <td>2.0</td>\n",
       "      <td>320.266313</td>\n",
       "    </tr>\n",
       "    <tr>\n",
       "      <th>MaxEnt</th>\n",
       "      <td>-0.520590</td>\n",
       "      <td>-0.541279</td>\n",
       "      <td>4.0</td>\n",
       "      <td>322.669276</td>\n",
       "    </tr>\n",
       "  </tbody>\n",
       "</table>\n",
       "</div>"
      ],
      "text/plain": [
       "                               r2  adjusted_r2  model_id         bic\n",
       "model                                                               \n",
       "HypTest                  0.090129     0.090129       3.0  232.980025\n",
       "MF                      -0.492362    -0.492362       0.0  308.972538\n",
       "MF\\ndirection           -0.401438    -0.401438       1.0  299.718385\n",
       "MF\\nrelative\\ndirection -0.692765    -0.692765       2.0  320.266313\n",
       "MaxEnt                  -0.520590    -0.541279       4.0  322.669276"
      ]
     },
     "execution_count": 35,
     "metadata": {},
     "output_type": "execute_result"
    }
   ],
   "source": [
    "condition_r2s.groupby('model').mean()"
   ]
  },
  {
   "cell_type": "markdown",
   "metadata": {},
   "source": [
    "### Plot BIC across fits"
   ]
  },
  {
   "cell_type": "code",
   "execution_count": 54,
   "metadata": {},
   "outputs": [
    {
     "name": "stderr",
     "output_type": "stream",
     "text": [
      "C:\\Users\\tobyw\\Miniconda3\\envs\\mne\\lib\\site-packages\\seaborn\\_decorators.py:36: FutureWarning: Pass the following variables as keyword args: x, y. From version 0.12, the only valid positional argument will be `data`, and passing other arguments without an explicit keyword will result in an error or misinterpretation.\n",
      "  warnings.warn(\n"
     ]
    },
    {
     "data": {
      "image/png": "[encoded data removed]",
      "text/plain": [
       "<Figure size 628.56x216 with 3 Axes>"
      ]
     },
     "metadata": {},
     "output_type": "display_data"
    }
   ],
   "source": [
    "pal = plt.rcParams['axes.prop_cycle'].by_key()['color']\n",
    "colours = np.array(['#adadad'] * 5)\n",
    "colours[-1] = pal[1]\n",
    "\n",
    "plot_bics = condition_r2s.groupby(['model', 'condition_label']).max().reset_index().sort_values('model_id').replace({'MF\\nrelative\\ndirection': 'MF\\nrel'})\n",
    "\n",
    "g = sns.catplot('model', 'bic', data=plot_bics, col='condition_label', linewidth=.6, edgecolor='black',\n",
    "            order=model_weight_df['model'].replace({'MF\\nrelative\\ndirection': 'MF\\nrel'}).unique().tolist()[:3] + \n",
    "                model_weight_df['model'].replace({'MF\\nrelative\\ndirection': 'MF\\nrel'}).unique().tolist()[3:5][::-1], \n",
    "            height=2.7, aspect=.97, kind='bar', palette=colours, alpha=1).set(ylabel='BIC\\n(lower = better fit)', xlabel='Model').set_titles('Condition {col_name}')\n",
    "g.set_xticklabels(rotation=30)\n",
    "g.set(ylim=(plot_bics['bic'].min() - (plot_bics['bic'].max() - plot_bics['bic'].min()) / 5, \n",
    "                          plot_bics['bic'].max() + (plot_bics['bic'].max() - plot_bics['bic'].min()) / 5))\n",
    "   \n",
    "import matplotlib.patches as patches\n",
    "rect = patches.Rectangle((2.5, 160), 1, 25, linewidth=1, edgecolor='none', facecolor='#fbfbfb', clip_on=False, alpha=.6, zorder=5)\n",
    "g.axes[0][-1].add_patch(rect)\n",
    "    \n",
    "\n",
    "plt.tight_layout()\n",
    "plt.savefig('../../figures/Figure-3_IRL_BIC.svg')"
   ]
  },
  {
   "attachments": {},
   "cell_type": "markdown",
   "metadata": {},
   "source": [
    "### Look at model predictions across all environments\n",
    "\n",
    "Here we load in model fits and subject predictions for environments _up to_ 1-4 (i.e., models trained on all environments observed so far, and subjects' predictions based on the same)."
   ]
  },
  {
   "cell_type": "code",
   "execution_count": 45,
   "metadata": {},
   "outputs": [
    {
     "data": {
      "text/plain": [
       "<Figure size 480x320 with 0 Axes>"
      ]
     },
     "metadata": {},
     "output_type": "display_data"
    }
   ],
   "source": [
    "observed_dfs = []\n",
    "model_dfs = []\n",
    "\n",
    "for env in range(1, 5):\n",
    "    obs, model = load_irl_model_fits('../../data/irl_fits/experiment-1/env_{}'.format(env))\n",
    "    obs['env'] = env\n",
    "    model['env'] = env\n",
    "    observed_dfs.append(obs)\n",
    "    model_dfs.append(model)\n",
    "\n",
    "observed_dfs = pd.concat(observed_dfs)\n",
    "model_dfs = pd.concat(model_dfs)\n",
    "model_dfs = model_dfs[model_dfs['model'] == 'HypTest']\n",
    "\n",
    "# combine observed and model data\n",
    "combined_df = pd.concat([observed_dfs, model_dfs])"
   ]
  },
  {
   "cell_type": "code",
   "execution_count": 48,
   "metadata": {},
   "outputs": [
    {
     "data": {
      "image/png": "[encoded data removed]",
      "text/plain": [
       "<Figure size 518.4x288 with 8 Axes>"
      ]
     },
     "metadata": {},
     "output_type": "display_data"
    }
   ],
   "source": [
    "sns.catplot(\n",
    "    x=\"Feature\",\n",
    "    y=\"Weight\",\n",
    "    data=combined_df[combined_df['condition'] == 'A'],\n",
    "    row=\"model\",\n",
    "    col='env',\n",
    "    kind=\"bar\",\n",
    "    height=1.8,\n",
    "    aspect=0.9,\n",
    "    capsize=0.05,\n",
    "    errwidth=0.8,\n",
    "    linewidth=.5, \n",
    "    edgecolor='black', \n",
    ").set_titles(\"{row_name}\\nEnv {col_name}\")\n",
    "plt.suptitle('Agent preference = trees')\n",
    "plt.tight_layout()\n",
    "\n",
    "plt.savefig('../../figures/IRL_fit_all_envs_cond-A.svg')\n"
   ]
  },
  {
   "cell_type": "code",
   "execution_count": 49,
   "metadata": {},
   "outputs": [
    {
     "data": {
      "image/png": "[encoded data removed]",
      "text/plain": [
       "<Figure size 518.4x288 with 8 Axes>"
      ]
     },
     "metadata": {},
     "output_type": "display_data"
    }
   ],
   "source": [
    "sns.catplot(\n",
    "    x=\"Feature\",\n",
    "    y=\"Weight\",\n",
    "    data=combined_df[combined_df['condition'] == 'B'],\n",
    "    row=\"model\",\n",
    "    col='env',\n",
    "    kind=\"bar\",\n",
    "    height=1.8,\n",
    "    aspect=0.9,\n",
    "    capsize=0.05,\n",
    "    errwidth=0.8,\n",
    "    linewidth=.5, \n",
    "    edgecolor='black', \n",
    ").set_titles(\"{row_name}\\nEnv {col_name}\")\n",
    "plt.suptitle('Agent preference = red')\n",
    "plt.tight_layout()\n",
    "\n",
    "plt.savefig('../../figures/IRL_fit_all_envs_cond-B.svg')\n"
   ]
  },
  {
   "cell_type": "code",
   "execution_count": 50,
   "metadata": {},
   "outputs": [
    {
     "data": {
      "image/png": "[encoded data removed]",
      "text/plain": [
       "<Figure size 518.4x288 with 8 Axes>"
      ]
     },
     "metadata": {},
     "output_type": "display_data"
    }
   ],
   "source": [
    "sns.catplot(\n",
    "    x=\"Feature\",\n",
    "    y=\"Weight\",\n",
    "    data=combined_df[combined_df['condition'] == 'C'],\n",
    "    row=\"model\",\n",
    "    col='env',\n",
    "    kind=\"bar\",\n",
    "    height=1.8,\n",
    "    aspect=0.9,\n",
    "    capsize=0.05,\n",
    "    errwidth=0.8,\n",
    "    linewidth=.5, \n",
    "    edgecolor='black', \n",
    ").set_titles(\"{row_name}\\nEnv {col_name}\")\n",
    "plt.suptitle('Agent preference = prey')\n",
    "plt.tight_layout()\n",
    "\n",
    "plt.savefig('../../figures/IRL_fit_all_envs_cond-C.svg')\n"
   ]
  }
 ],
 "metadata": {
  "kernelspec": {
   "display_name": "mne",
   "language": "python",
   "name": "python3"
  },
  "language_info": {
   "codemirror_mode": {
    "name": "ipython",
    "version": 3
   },
   "file_extension": ".py",
   "mimetype": "text/x-python",
   "name": "python",
   "nbconvert_exporter": "python",
   "pygments_lexer": "ipython3",
   "version": "3.8.12"
  },
  "vscode": {
   "interpreter": {
    "hash": "9aaa6385210b4d6c3a0e2465a2e9865159cf8c966716cd4103dbe6bce3531fa0"
   }
  }
 },
 "nbformat": 4,
 "nbformat_minor": 4
}
