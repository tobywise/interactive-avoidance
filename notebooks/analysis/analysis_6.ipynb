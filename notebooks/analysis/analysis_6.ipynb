{
 "cells": [
  {
   "attachments": {},
   "cell_type": "markdown",
   "metadata": {},
   "source": [
    "# **Modeling the mind of a predator: Interactive cognitive maps support flexible avoidance of dynamic threats**\n",
    "\n",
    "### Toby Wise, Caroline J Charpentier, Peter Dayan & Dean Mobbs\n",
    "\n",
    "#### Analysis notebook 6: MCTS Parameter estimation through simulation-based inference\n",
    "\n",
    "> **_NOTE:_**  This notebook uses tools for simulation-based inference available in [this package](https://github.com/tobywise/simulation_based_inference) and evaluation plots available in [this package](https://github.com/tobywise/model-fit-utils), both of which are currently under development."
   ]
  },
  {
   "cell_type": "code",
   "execution_count": 2,
   "metadata": {},
   "outputs": [],
   "source": [
    "from simulation_based_inference.npe import NPEModel\n",
    "from model_fit_tools.plotting import plot_recovery, plot_pp, plot_recovery_matrix\n",
    "import numpy as np\n",
    "import os\n",
    "import pandas as pd\n",
    "import matplotlib.pyplot as plt \n",
    "import seaborn as sns\n",
    "import matplotlib\n",
    "import bambi\n",
    "import arviz as az\n",
    "from scipy.stats import ttest_ind\n",
    "matplotlib.style.use('style.mplstyle')\n",
    "matplotlib.rcParams['font.weight'] = 'normal'\n",
    "pal = plt.rcParams['axes.prop_cycle'].by_key()['color']\n",
    "plt.rcParams[\"font.family\"] = \"Heebo\""
   ]
  },
  {
   "attachments": {},
   "cell_type": "markdown",
   "metadata": {},
   "source": [
    "## Load simulated data\n",
    "\n",
    "This data is generated using the `run_MCTS_simulations.py` script in the `code` directory.\n"
   ]
  },
  {
   "cell_type": "code",
   "execution_count": 3,
   "metadata": {},
   "outputs": [
    {
     "data": {
      "text/plain": [
       "(20000, 1, 80)"
      ]
     },
     "execution_count": 3,
     "metadata": {},
     "output_type": "execute_result"
    }
   ],
   "source": [
    "simulations_A1 = np.load('data/SBI_simulations/experiment-3/condition-A1/y_data.npy', allow_pickle=True).astype(float)\n",
    "parameters_A1 = np.load('data/SBI_simulations/experiment-3/condition-A1/x_data.npy', allow_pickle=True).astype(float)\n",
    "simulations_A1 = simulations_A1.reshape(simulations_A1.shape[0], 1, -1)[:20000, ...]\n",
    "parameters_A1 = parameters_A1[:20000, ...]\n",
    "simulations_A1.shape"
   ]
  },
  {
   "attachments": {},
   "cell_type": "markdown",
   "metadata": {},
   "source": [
    "### Split data into training and test sets\n",
    "\n",
    "We only need a small percentage for testing, so we use 99% for training."
   ]
  },
  {
   "cell_type": "code",
   "execution_count": 4,
   "metadata": {},
   "outputs": [
    {
     "name": "stdout",
     "output_type": "stream",
     "text": [
      "(19800, 1, 80) (200, 1, 80)\n",
      "(19800, 2) (200, 2)\n"
     ]
    }
   ],
   "source": [
    "train_prop = 0.99\n",
    "train_size = int(train_prop * simulations_A1.shape[0])\n",
    "\n",
    "train_simulations_A1 = simulations_A1[:train_size]\n",
    "train_parameters_A1 = parameters_A1[:train_size]\n",
    "\n",
    "test_simulations_A1 = simulations_A1[train_size:]\n",
    "test_parameters_A1 = parameters_A1[train_size:]\n",
    "\n",
    "print(train_simulations_A1.shape, test_simulations_A1.shape)\n",
    "print(train_parameters_A1.shape, test_parameters_A1.shape)"
   ]
  },
  {
   "attachments": {},
   "cell_type": "markdown",
   "metadata": {},
   "source": [
    "## Fit the model\n",
    "\n",
    "This trains the model to predict parameter values from the simulated data."
   ]
  },
  {
   "cell_type": "code",
   "execution_count": 5,
   "metadata": {},
   "outputs": [
    {
     "name": "stderr",
     "output_type": "stream",
     "text": [
      "2023-02-28 16:59:47.995378: I tensorflow/core/platform/cpu_feature_guard.cc:193] This TensorFlow binary is optimized with oneAPI Deep Neural Network Library (oneDNN) to use the following CPU instructions in performance-critical operations:  AVX2 AVX512F AVX512_VNNI FMA\n",
      "To enable them in other operations, rebuild TensorFlow with the appropriate compiler flags.\n",
      "2023-02-28 16:59:48.587088: I tensorflow/core/util/util.cc:169] oneDNN custom operations are on. You may see slightly different numerical results due to floating-point round-off errors from different computation orders. To turn them off, set the environment variable `TF_ENABLE_ONEDNN_OPTS=0`.\n",
      "2023-02-28 16:59:48.831166: E tensorflow/stream_executor/cuda/cuda_blas.cc:2981] Unable to register cuBLAS factory: Attempting to register factory for plugin cuBLAS when one has already been registered\n",
      "2023-02-28 16:59:52.467790: W tensorflow/stream_executor/platform/default/dso_loader.cc:64] Could not load dynamic library 'libnvinfer.so.7'; dlerror: libnvinfer.so.7: cannot open shared object file: No such file or directory\n",
      "2023-02-28 16:59:52.468171: W tensorflow/stream_executor/platform/default/dso_loader.cc:64] Could not load dynamic library 'libnvinfer_plugin.so.7'; dlerror: libnvinfer_plugin.so.7: cannot open shared object file: No such file or directory\n",
      "2023-02-28 16:59:52.468178: W tensorflow/compiler/tf2tensorrt/utils/py_utils.cc:38] TF-TRT Warning: Cannot dlopen some TensorRT libraries. If you would like to use Nvidia GPU with TensorRT, please make sure the missing libraries mentioned above are installed properly.\n"
     ]
    },
    {
     "name": "stdout",
     "output_type": "stream",
     "text": [
      " Neural network successfully converged after 54 epochs."
     ]
    }
   ],
   "source": [
    "npe = NPEModel(choice_format='numerical')\n",
    "npe.fit(train_simulations_A1, train_parameters_A1)"
   ]
  },
  {
   "attachments": {},
   "cell_type": "markdown",
   "metadata": {},
   "source": [
    "## Sample from the posterior\n",
    "\n",
    "This uses the test data reserved for assessing the model's performance."
   ]
  },
  {
   "cell_type": "code",
   "execution_count": 6,
   "metadata": {},
   "outputs": [
    {
     "name": "stderr",
     "output_type": "stream",
     "text": [
      "100%|████████████████████████████████████████████████████████████████████████████████████████████████████████████████████████████████████████████████████████████████████████████████████████████████████████████████████████████████████████████████████████████████| 200/200 [00:02<00:00, 84.26it/s]\n"
     ]
    }
   ],
   "source": [
    "sampled_params_A1 = npe.sample(test_simulations_A1, n_samples=2000)"
   ]
  },
  {
   "cell_type": "code",
   "execution_count": 28,
   "metadata": {},
   "outputs": [
    {
     "data": {
      "image/png": "[encoded data removed]",
      "text/plain": [
       "<Figure size 264x264 with 2 Axes>"
      ]
     },
     "metadata": {},
     "output_type": "display_data"
    }
   ],
   "source": [
    "plot_recovery_matrix(\n",
    "    test_parameters_A1.squeeze().astype(float),\n",
    "    sampled_params_A1,\n",
    "    param_names=[\"Temperature\", \"Risk\\nsensitivity\"],\n",
    "    scale=1.1,\n",
    "    xtick_rotation=45,\n",
    "    colorbar_scale=0.78,\n",
    "    save_path=\"figures/\",\n",
    "    save_fname=\"exp-3_cond-A1_recovery.svg\",\n",
    ")\n"
   ]
  },
  {
   "attachments": {},
   "cell_type": "markdown",
   "metadata": {},
   "source": [
    "## Get real data"
   ]
  },
  {
   "attachments": {},
   "cell_type": "markdown",
   "metadata": {},
   "source": [
    "### Load in subjects' responses"
   ]
  },
  {
   "cell_type": "code",
   "execution_count": 7,
   "metadata": {},
   "outputs": [],
   "source": [
    "response_dfs = []\n",
    "\n",
    "output_dir = 'data/'\n",
    "experiment = 'experiment-3'\n",
    "\n",
    "data_dfs = {'response_data': response_dfs}\n",
    "\n",
    "for data_type, df_list in data_dfs.items():\n",
    "    \n",
    "    data_type_dir = os.path.join(output_dir, data_type, experiment)\n",
    "    \n",
    "    conditions = os.listdir(data_type_dir)\n",
    "    \n",
    "    for c in conditions:\n",
    "        for i in os.listdir(os.path.join(data_type_dir, c)):\n",
    "            if '.csv' in i and not 'SIMULATED' in i:\n",
    "                df = pd.read_csv(os.path.join(data_type_dir, c, i))\n",
    "                df_list.append(df)\n",
    "\n",
    "response_df = pd.concat(response_dfs)"
   ]
  },
  {
   "attachments": {},
   "cell_type": "markdown",
   "metadata": {},
   "source": [
    "### Convert to a format that can be used by the model"
   ]
  },
  {
   "cell_type": "code",
   "execution_count": 8,
   "metadata": {},
   "outputs": [],
   "source": [
    "# Select condition A1\n",
    "response_df_A1 = response_df[response_df['condition'] == 'A1'].copy()\n",
    "\n",
    "# Initialise array to store all moves, with -1 as a placeholder for missing moves\n",
    "all_moves_A1 = np.ones((response_df_A1['subjectID'].nunique(), 5, 16)) * -1\n",
    "\n",
    "for n_sub, sub in enumerate(response_df_A1['subjectID'].unique()):\n",
    "\n",
    "    for n_env, env in enumerate(response_df_A1['env'].unique()[1:]):\n",
    "\n",
    "        # Get data for this subject and environment\n",
    "        env_df = response_df_A1[(response_df_A1['subjectID'] == sub) & (response_df_A1['env'] == env)] \n",
    "\n",
    "        # Get prey moves for first 2 turns\n",
    "        prey_moves = env_df.loc[(env_df['agent'] == 'prey') & (env_df['trial'] < 2), 'cellID'].tolist()\n",
    "        all_moves_A1[n_sub, n_env, :len(prey_moves)] = prey_moves\n",
    "\n",
    "        # Get predator moves for first turn\n",
    "        predator_moves = env_df.loc[(env_df['agent'] == 'predator') & (env_df['trial'] < 1), 'cellID'].tolist()\n",
    "        all_moves_A1[n_sub, n_env, 8:8+len(predator_moves)] = predator_moves\n",
    "\n",
    "all_moves_A1 = all_moves_A1.reshape(all_moves_A1.shape[0], 1, -1)\n",
    "\n"
   ]
  },
  {
   "attachments": {},
   "cell_type": "markdown",
   "metadata": {},
   "source": [
    "## Estimate parameters for each subject"
   ]
  },
  {
   "cell_type": "code",
   "execution_count": 9,
   "metadata": {},
   "outputs": [
    {
     "name": "stderr",
     "output_type": "stream",
     "text": [
      "100%|██████████████████████████████████████████████████████████████████████████████████████████████████████████████████████████████████████████████████████████████████████████████████████████████████████████████████████████████████████████████████████████████████| 80/80 [00:00<00:00, 84.96it/s]\n"
     ]
    }
   ],
   "source": [
    "estimated_params_A1 = npe.sample(all_moves_A1, n_samples=2000)\n",
    "mean_estimated_params_A1 = estimated_params_A1.mean(axis=0)"
   ]
  },
  {
   "cell_type": "code",
   "execution_count": 10,
   "metadata": {},
   "outputs": [
    {
     "data": {
      "image/png": "[encoded data removed]",
      "text/plain": [
       "<Figure size 320x160 with 2 Axes>"
      ]
     },
     "metadata": {},
     "output_type": "display_data"
    }
   ],
   "source": [
    "f, ax = plt.subplots(1, 2, figsize=(4, 2))\n",
    "\n",
    "ax[0].hist(mean_estimated_params_A1[:, 0] * 5, bins=20, color=pal[0])  # rescale temperature to 0-5\n",
    "ax[0].set_xlabel('Temperature')\n",
    "ax[0].set_ylabel('Frequency')\n",
    "\n",
    "ax[1].hist(mean_estimated_params_A1[:, 1] * 2.5, bins=20, color=pal[1]) # rescale risk sensitivity to 0-2.5\n",
    "ax[1].set_xlabel('Risk sensitivity')\n",
    "ax[1].set_ylabel('Frequency')\n",
    "ax[1].axvline(1, color='gray', linestyle='--', linewidth=1)\n",
    "\n",
    "sns.despine()\n",
    "\n",
    "plt.tight_layout()\n",
    "\n",
    "plt.savefig('figures/exp-3_cond-A1_estimated_params.svg')"
   ]
  },
  {
   "cell_type": "code",
   "execution_count": 40,
   "metadata": {},
   "outputs": [
    {
     "data": {
      "text/plain": [
       "(80, 2)"
      ]
     },
     "execution_count": 40,
     "metadata": {},
     "output_type": "execute_result"
    }
   ],
   "source": [
    "mean_estimated_params_A1.shape"
   ]
  },
  {
   "cell_type": "code",
   "execution_count": 52,
   "metadata": {},
   "outputs": [
    {
     "name": "stdout",
     "output_type": "stream",
     "text": [
      "Mean (SD) = 2.71 (1.08)\n",
      "t(79)=22.26, p=0.000\n"
     ]
    }
   ],
   "source": [
    "from scipy.stats import ttest_1samp\n",
    "t, p = ttest_1samp(mean_estimated_params_A1[:, 0] * 5, 0)\n",
    "print('Mean (SD) = {:.2f} ({:.2f})'.format(mean_estimated_params_A1[:, 0].mean() * 5, mean_estimated_params_A1[:, 0].std() * 5))\n",
    "print('t(79)={:.2f}, p={:.3f}'.format(t, p))"
   ]
  },
  {
   "cell_type": "code",
   "execution_count": 55,
   "metadata": {},
   "outputs": [
    {
     "name": "stdout",
     "output_type": "stream",
     "text": [
      "Mean (SD) = 0.56 (0.49)\n",
      "t(79)=-8.00, p=0.000\n"
     ]
    }
   ],
   "source": [
    "from scipy.stats import ttest_1samp\n",
    "t, p = ttest_1samp(mean_estimated_params_A1[:, 1] * 2.5, 1)\n",
    "print('Mean (SD) = {:.2f} ({:.2f})'.format(mean_estimated_params_A1[:, 1].mean() * 2.5, mean_estimated_params_A1[:, 1].std() * 2.5))\n",
    "print('t(79)={:.2f}, p={:.3f}'.format(t, p))"
   ]
  },
  {
   "attachments": {},
   "cell_type": "markdown",
   "metadata": {},
   "source": [
    "## Correlate with time spent in rich reward zones"
   ]
  },
  {
   "cell_type": "code",
   "execution_count": 11,
   "metadata": {},
   "outputs": [],
   "source": [
    "time_in_rich_rewards = pd.read_csv('data/exp-3_time_in_rich_rewards.csv')\n",
    "time_in_rich_rewards_A1 = time_in_rich_rewards[time_in_rich_rewards['condition'] == 'A1'].copy()\n",
    "\n",
    "time_in_rich_rewards_A1['temperature'] = mean_estimated_params_A1[:, 0] * 5\n",
    "time_in_rich_rewards_A1['risk_sensitivity'] = mean_estimated_params_A1[:, 1] * 2.5"
   ]
  },
  {
   "cell_type": "code",
   "execution_count": 12,
   "metadata": {},
   "outputs": [
    {
     "data": {
      "text/html": [
       "\n",
       "    <div>\n",
       "      <progress value='8000' class='' max='8000' style='width:300px; height:20px; vertical-align: middle;'></progress>\n",
       "      100.00% [8000/8000 00:06&lt;00:00 Sampling 4 chains, 0 divergences]\n",
       "    </div>\n",
       "    "
      ],
      "text/plain": [
       "<IPython.core.display.HTML object>"
      ]
     },
     "metadata": {},
     "output_type": "display_data"
    },
    {
     "name": "stderr",
     "output_type": "stream",
     "text": [
      "Sampling 4 chains for 1_000 tune and 1_000 draw iterations (4_000 + 4_000 draws total) took 7 seconds.\n",
      "INFO:pymc:Sampling 4 chains for 1_000 tune and 1_000 draw iterations (4_000 + 4_000 draws total) took 7 seconds.\n"
     ]
    }
   ],
   "source": [
    "# fit a Bayesian GLM using bambi\n",
    "import bambi\n",
    "import arviz as az\n",
    "\n",
    "# Fit model\n",
    "model_A1 = bambi.Model(data=time_in_rich_rewards_A1, formula='count_norm ~ temperature + risk_sensitivity')\n",
    "\n",
    "# Sample from posterior\n",
    "posterior_A1 = model_A1.fit(chains=4)\n"
   ]
  },
  {
   "cell_type": "code",
   "execution_count": 13,
   "metadata": {},
   "outputs": [
    {
     "data": {
      "text/html": [
       "<div>\n",
       "<style scoped>\n",
       "    .dataframe tbody tr th:only-of-type {\n",
       "        vertical-align: middle;\n",
       "    }\n",
       "\n",
       "    .dataframe tbody tr th {\n",
       "        vertical-align: top;\n",
       "    }\n",
       "\n",
       "    .dataframe thead th {\n",
       "        text-align: right;\n",
       "    }\n",
       "</style>\n",
       "<table border=\"1\" class=\"dataframe\">\n",
       "  <thead>\n",
       "    <tr style=\"text-align: right;\">\n",
       "      <th></th>\n",
       "      <th>mean</th>\n",
       "      <th>sd</th>\n",
       "      <th>hdi_2.5%</th>\n",
       "      <th>hdi_97.5%</th>\n",
       "      <th>mcse_mean</th>\n",
       "      <th>mcse_sd</th>\n",
       "      <th>ess_bulk</th>\n",
       "      <th>ess_tail</th>\n",
       "      <th>r_hat</th>\n",
       "    </tr>\n",
       "  </thead>\n",
       "  <tbody>\n",
       "    <tr>\n",
       "      <th>Intercept</th>\n",
       "      <td>0.82</td>\n",
       "      <td>0.06</td>\n",
       "      <td>0.71</td>\n",
       "      <td>0.95</td>\n",
       "      <td>0.0</td>\n",
       "      <td>0.0</td>\n",
       "      <td>5071.31</td>\n",
       "      <td>3331.93</td>\n",
       "      <td>1.0</td>\n",
       "    </tr>\n",
       "    <tr>\n",
       "      <th>temperature</th>\n",
       "      <td>-0.03</td>\n",
       "      <td>0.02</td>\n",
       "      <td>-0.06</td>\n",
       "      <td>0.01</td>\n",
       "      <td>0.0</td>\n",
       "      <td>0.0</td>\n",
       "      <td>4793.25</td>\n",
       "      <td>3068.11</td>\n",
       "      <td>1.0</td>\n",
       "    </tr>\n",
       "    <tr>\n",
       "      <th>risk_sensitivity</th>\n",
       "      <td>-0.43</td>\n",
       "      <td>0.04</td>\n",
       "      <td>-0.50</td>\n",
       "      <td>-0.35</td>\n",
       "      <td>0.0</td>\n",
       "      <td>0.0</td>\n",
       "      <td>6062.23</td>\n",
       "      <td>3447.83</td>\n",
       "      <td>1.0</td>\n",
       "    </tr>\n",
       "    <tr>\n",
       "      <th>count_norm_sigma</th>\n",
       "      <td>0.17</td>\n",
       "      <td>0.01</td>\n",
       "      <td>0.15</td>\n",
       "      <td>0.20</td>\n",
       "      <td>0.0</td>\n",
       "      <td>0.0</td>\n",
       "      <td>5028.68</td>\n",
       "      <td>2833.98</td>\n",
       "      <td>1.0</td>\n",
       "    </tr>\n",
       "  </tbody>\n",
       "</table>\n",
       "</div>"
      ],
      "text/plain": [
       "                  mean    sd  hdi_2.5%  hdi_97.5%  mcse_mean  mcse_sd  \\\n",
       "Intercept         0.82  0.06      0.71       0.95        0.0      0.0   \n",
       "temperature      -0.03  0.02     -0.06       0.01        0.0      0.0   \n",
       "risk_sensitivity -0.43  0.04     -0.50      -0.35        0.0      0.0   \n",
       "count_norm_sigma  0.17  0.01      0.15       0.20        0.0      0.0   \n",
       "\n",
       "                  ess_bulk  ess_tail  r_hat  \n",
       "Intercept          5071.31   3331.93    1.0  \n",
       "temperature        4793.25   3068.11    1.0  \n",
       "risk_sensitivity   6062.23   3447.83    1.0  \n",
       "count_norm_sigma   5028.68   2833.98    1.0  "
      ]
     },
     "execution_count": 13,
     "metadata": {},
     "output_type": "execute_result"
    }
   ],
   "source": [
    "summary_A1 = az.summary(posterior_A1, hdi_prob=0.95, round_to=2)\n",
    "summary_A1"
   ]
  },
  {
   "cell_type": "code",
   "execution_count": 14,
   "metadata": {},
   "outputs": [
    {
     "data": {
      "image/png": "[encoded data removed]",
      "text/plain": [
       "<Figure size 184x160 with 1 Axes>"
      ]
     },
     "metadata": {},
     "output_type": "display_data"
    }
   ],
   "source": [
    "plt.figure(figsize=(2.3, 2))\n",
    "sns.kdeplot(posterior_A1.posterior['temperature'].values.flatten(), fill=True, label='Temp.')\n",
    "sns.kdeplot(posterior_A1.posterior['risk_sensitivity'].values.flatten(), fill=True, label='Risk sens.')\n",
    "plt.axvline(0, color='gray', linestyle=':')\n",
    "plt.xlabel('Parameter estimate')\n",
    "plt.ylabel('Posterior density')\n",
    "plt.yticks([])\n",
    "\n",
    "plt.legend()\n",
    "\n",
    "sns.despine()\n",
    "plt.tight_layout()\n"
   ]
  },
  {
   "cell_type": "code",
   "execution_count": 67,
   "metadata": {},
   "outputs": [
    {
     "data": {
      "image/png": "[encoded data removed]",
      "text/plain": [
       "<Figure size 264x132 with 2 Axes>"
      ]
     },
     "metadata": {},
     "output_type": "display_data"
    }
   ],
   "source": [
    "f, ax = plt.subplots(1, 2, figsize=(3.3, 1.65))\n",
    "\n",
    "# plot regressions\n",
    "sns.regplot(x='temperature', y='count_norm', data=time_in_rich_rewards_A1, ax=ax[0], color=pal[0], scatter_kws={'s': 10})\n",
    "sns.regplot(x='risk_sensitivity', y='count_norm', data=time_in_rich_rewards_A1, ax=ax[1], color=pal[1], scatter_kws={'s': 10})\n",
    "\n",
    "ax[0].set_xlabel('Temperature')\n",
    "ax[0].set_ylabel('Time in\\nrich rewards')\n",
    "\n",
    "ax[1].set_xlabel('Threat sensitivity')\n",
    "ax[1].set_ylabel('')\n",
    "\n",
    "sns.despine()\n",
    "\n",
    "plt.tight_layout()\n",
    "\n",
    "plt.savefig('figures/exp-3_regression_param_plot.svg')\n",
    "plt.savefig('figures/exp-3_regression_param_plot.pdf')"
   ]
  },
  {
   "attachments": {},
   "cell_type": "markdown",
   "metadata": {},
   "source": [
    "## Repeat for Condition A2"
   ]
  },
  {
   "cell_type": "code",
   "execution_count": 16,
   "metadata": {},
   "outputs": [
    {
     "data": {
      "text/plain": [
       "(20000, 1, 80)"
      ]
     },
     "execution_count": 16,
     "metadata": {},
     "output_type": "execute_result"
    }
   ],
   "source": [
    "simulations_A2 = np.load('data/SBI_simulations/experiment-3/condition-A2/y_data.npy', allow_pickle=True).astype(float)\n",
    "parameters_A2 = np.load('data/SBI_simulations/experiment-3/condition-A2/x_data.npy', allow_pickle=True).astype(float)\n",
    "simulations_A2 = simulations_A2.reshape(simulations_A2.shape[0], 1, -1)\n",
    "simulations_A2.shape"
   ]
  },
  {
   "cell_type": "code",
   "execution_count": 17,
   "metadata": {},
   "outputs": [
    {
     "name": "stdout",
     "output_type": "stream",
     "text": [
      "(19800, 1, 80) (200, 1, 80)\n"
     ]
    }
   ],
   "source": [
    "train_size = int(train_prop * simulations_A2.shape[0])\n",
    "\n",
    "train_simulations_A2 = simulations_A2[:train_size]\n",
    "train_parameters_A2 = parameters_A2[:train_size]\n",
    "\n",
    "test_simulations_A2 = simulations_A2[train_size:]\n",
    "test_parameters_A2 = parameters_A2[train_size:]\n",
    "\n",
    "print(train_simulations_A2.shape, test_simulations_A2.shape)"
   ]
  },
  {
   "cell_type": "code",
   "execution_count": 18,
   "metadata": {},
   "outputs": [
    {
     "name": "stdout",
     "output_type": "stream",
     "text": [
      " Neural network successfully converged after 32 epochs."
     ]
    }
   ],
   "source": [
    "npe = NPEModel(choice_format='numerical')\n",
    "npe.fit(train_simulations_A2, train_parameters_A2)"
   ]
  },
  {
   "cell_type": "code",
   "execution_count": 19,
   "metadata": {},
   "outputs": [
    {
     "name": "stderr",
     "output_type": "stream",
     "text": [
      "100%|████████████████████████████████████████████████████████████████████████████████████████████████████████████████████████████████████████████████████████████████████████████████████████████████████████████████████████████████████████████████████████████████| 200/200 [00:02<00:00, 84.26it/s]\n"
     ]
    }
   ],
   "source": [
    "sampled_params_A2 = npe.sample(test_simulations_A2, n_samples=2000)"
   ]
  },
  {
   "cell_type": "code",
   "execution_count": 20,
   "metadata": {},
   "outputs": [
    {
     "data": {
      "image/png": "[encoded data removed]",
      "text/plain": [
       "<Figure size 264x264 with 2 Axes>"
      ]
     },
     "metadata": {},
     "output_type": "display_data"
    }
   ],
   "source": [
    "plot_recovery_matrix(\n",
    "    test_parameters_A2.squeeze().astype(float), \n",
    "    sampled_params_A2, \n",
    "    param_names = ['Temperature', 'Risk\\nsensitivity'], \n",
    "    scale=1.1, \n",
    "    xtick_rotation=45, \n",
    "    colorbar_scale=0.78, \n",
    "    save_path='figures/', \n",
    "    save_fname='exp-3_cond-A2_recovery.svg'\n",
    ")"
   ]
  },
  {
   "cell_type": "code",
   "execution_count": 21,
   "metadata": {},
   "outputs": [],
   "source": [
    "# Select condition A1\n",
    "response_df_A2 = response_df[response_df['condition'] == 'A2'].copy()\n",
    "\n",
    "# Initialise array to store all moves, with -1 as a placeholder for missing moves\n",
    "all_moves_A2 = np.ones((response_df_A2['subjectID'].nunique(), 5, 16)) * -1\n",
    "\n",
    "for n_sub, sub in enumerate(response_df_A2['subjectID'].unique()):\n",
    "\n",
    "    for n_env, env in enumerate(response_df_A2['env'].unique()[1:]):\n",
    "\n",
    "        # Get data for this subject and environment\n",
    "        env_df = response_df_A2[(response_df_A2['subjectID'] == sub) & (response_df_A2['env'] == env)] \n",
    "\n",
    "        # Get prey moves for first 2 turns\n",
    "        prey_moves = env_df.loc[(env_df['agent'] == 'prey') & (env_df['trial'] < 2), 'cellID'].tolist()\n",
    "        all_moves_A2[n_sub, n_env, :len(prey_moves)] = prey_moves\n",
    "\n",
    "        # Get predator moves for first turn\n",
    "        predator_moves = env_df.loc[(env_df['agent'] == 'predator') & (env_df['trial'] < 1), 'cellID'].tolist()\n",
    "        all_moves_A2[n_sub, n_env, 8:8+len(predator_moves)] = predator_moves\n",
    "\n",
    "all_moves_A2 = all_moves_A2.reshape(all_moves_A2.shape[0], 1, -1)\n",
    "\n"
   ]
  },
  {
   "cell_type": "code",
   "execution_count": 22,
   "metadata": {},
   "outputs": [
    {
     "name": "stderr",
     "output_type": "stream",
     "text": [
      "100%|██████████████████████████████████████████████████████████████████████████████████████████████████████████████████████████████████████████████████████████████████████████████████████████████████████████████████████████████████████████████████████████████████| 40/40 [00:00<00:00, 84.37it/s]\n"
     ]
    }
   ],
   "source": [
    "estimated_params_A2 = npe.sample(all_moves_A2, n_samples=2000)\n",
    "mean_estimated_params_A2 = estimated_params_A2.mean(axis=0)"
   ]
  },
  {
   "cell_type": "code",
   "execution_count": 23,
   "metadata": {},
   "outputs": [
    {
     "data": {
      "image/png": "[encoded data removed]",
      "text/plain": [
       "<Figure size 320x160 with 2 Axes>"
      ]
     },
     "metadata": {},
     "output_type": "display_data"
    }
   ],
   "source": [
    "f, ax = plt.subplots(1, 2, figsize=(4, 2))\n",
    "\n",
    "ax[0].hist(mean_estimated_params_A2[:, 0] * 5, bins=15, color=pal[0])  # rescale temperature to 0-5\n",
    "ax[0].set_xlabel('Temperature')\n",
    "ax[0].set_ylabel('Frequency')\n",
    "\n",
    "ax[1].hist(mean_estimated_params_A2[:, 1] * 2.5, bins=15, color=pal[1]) # rescale risk sensitivity to 0-2.5\n",
    "ax[1].set_xlabel('Risk sensitivity')\n",
    "ax[1].set_ylabel('Frequency')\n",
    "ax[1].axvline(1, color='gray', linestyle='--', linewidth=1)\n",
    "\n",
    "sns.despine()\n",
    "\n",
    "plt.tight_layout()\n",
    "\n",
    "plt.savefig('figures/exp-3_cond-A2_estimated_params.svg')"
   ]
  },
  {
   "cell_type": "code",
   "execution_count": 68,
   "metadata": {},
   "outputs": [
    {
     "data": {
      "image/png": "[encoded data removed]",
      "text/plain": [
       "<Figure size 280x256 with 4 Axes>"
      ]
     },
     "metadata": {},
     "output_type": "display_data"
    }
   ],
   "source": [
    "f, ax = plt.subplots(2, 2, figsize=(3.5, 3.2))\n",
    "\n",
    "ax[0, 0].hist(mean_estimated_params_A1[:, 0] * 5, bins=10, color=pal[0], alpha=0.6, linewidth=.8, edgecolor='black')  # rescale temperature to 0-5\n",
    "# ax[0, 0].set_xlabel('Temperature')\n",
    "ax[0, 0].set_ylabel('Frequency\\n(Predictable)')\n",
    "\n",
    "ax[0, 1].hist(mean_estimated_params_A1[:, 1] * 2.5, bins=10, color=pal[1], alpha=0.6, linewidth=.8, edgecolor='black') # rescale risk sensitivity to 0-2.5\n",
    "# ax[0, 1].set_xlabel('Risk sensitivity')\n",
    "# ax[0, 1].set_ylabel('Frequency')\n",
    "ax[0, 1].axvline(1, color='gray', linestyle='--', linewidth=1)\n",
    "\n",
    "ax[1, 0].hist(mean_estimated_params_A2[:, 0] * 5, bins=10, color=pal[0], alpha=0.6, linewidth=.8, edgecolor='black')  # rescale temperature to 0-5\n",
    "ax[1, 0].set_xlabel('Temperature')\n",
    "ax[1, 0].set_ylabel('Frequency\\n(Unpredictable)')\n",
    "\n",
    "ax[1, 1].hist(mean_estimated_params_A2[:, 1] * 2.5, bins=10, color=pal[1], alpha=0.6, linewidth=.8, edgecolor='black') # rescale risk sensitivity to 0-2.5\n",
    "ax[1, 1].set_xlabel('Threat sensitivity')\n",
    "# ax[1, 1].set_ylabel('Frequency')\n",
    "ax[1, 1].axvline(1, color='gray', linestyle='--', linewidth=1)\n",
    "\n",
    "\n",
    "sns.despine()\n",
    "\n",
    "plt.tight_layout()\n",
    "\n",
    "plt.savefig('figures/exp-3_both_estimated_params.svg')\n",
    "plt.savefig('figures/exp-3_both_estimated_params.pdf')"
   ]
  },
  {
   "cell_type": "code",
   "execution_count": 25,
   "metadata": {},
   "outputs": [],
   "source": [
    "time_in_rich_rewards_A2 = time_in_rich_rewards[time_in_rich_rewards['condition'] == 'A2'].copy()\n",
    "\n",
    "time_in_rich_rewards_A2['temperature'] = mean_estimated_params_A2[:, 0] * 5\n",
    "time_in_rich_rewards_A2['risk_sensitivity'] = mean_estimated_params_A2[:, 1] * 2.5"
   ]
  },
  {
   "cell_type": "code",
   "execution_count": 26,
   "metadata": {},
   "outputs": [
    {
     "data": {
      "text/html": [
       "\n",
       "    <div>\n",
       "      <progress value='8000' class='' max='8000' style='width:300px; height:20px; vertical-align: middle;'></progress>\n",
       "      100.00% [8000/8000 00:06&lt;00:00 Sampling 4 chains, 0 divergences]\n",
       "    </div>\n",
       "    "
      ],
      "text/plain": [
       "<IPython.core.display.HTML object>"
      ]
     },
     "metadata": {},
     "output_type": "display_data"
    },
    {
     "name": "stderr",
     "output_type": "stream",
     "text": [
      "Sampling 4 chains for 1_000 tune and 1_000 draw iterations (4_000 + 4_000 draws total) took 7 seconds.\n",
      "INFO:pymc:Sampling 4 chains for 1_000 tune and 1_000 draw iterations (4_000 + 4_000 draws total) took 7 seconds.\n"
     ]
    }
   ],
   "source": [
    "# Fit model\n",
    "model_A2 = bambi.Model(data=time_in_rich_rewards_A2, formula='count_norm ~ temperature + risk_sensitivity')\n",
    "\n",
    "# Sample from posterior\n",
    "posterior_A2 = model_A2.fit(chains=4)\n"
   ]
  },
  {
   "cell_type": "code",
   "execution_count": 27,
   "metadata": {},
   "outputs": [
    {
     "data": {
      "text/html": [
       "<div>\n",
       "<style scoped>\n",
       "    .dataframe tbody tr th:only-of-type {\n",
       "        vertical-align: middle;\n",
       "    }\n",
       "\n",
       "    .dataframe tbody tr th {\n",
       "        vertical-align: top;\n",
       "    }\n",
       "\n",
       "    .dataframe thead th {\n",
       "        text-align: right;\n",
       "    }\n",
       "</style>\n",
       "<table border=\"1\" class=\"dataframe\">\n",
       "  <thead>\n",
       "    <tr style=\"text-align: right;\">\n",
       "      <th></th>\n",
       "      <th>mean</th>\n",
       "      <th>sd</th>\n",
       "      <th>hdi_2.5%</th>\n",
       "      <th>hdi_97.5%</th>\n",
       "      <th>mcse_mean</th>\n",
       "      <th>mcse_sd</th>\n",
       "      <th>ess_bulk</th>\n",
       "      <th>ess_tail</th>\n",
       "      <th>r_hat</th>\n",
       "    </tr>\n",
       "  </thead>\n",
       "  <tbody>\n",
       "    <tr>\n",
       "      <th>Intercept</th>\n",
       "      <td>0.61</td>\n",
       "      <td>0.08</td>\n",
       "      <td>0.46</td>\n",
       "      <td>0.77</td>\n",
       "      <td>0.0</td>\n",
       "      <td>0.0</td>\n",
       "      <td>4666.20</td>\n",
       "      <td>3299.74</td>\n",
       "      <td>1.0</td>\n",
       "    </tr>\n",
       "    <tr>\n",
       "      <th>temperature</th>\n",
       "      <td>-0.01</td>\n",
       "      <td>0.02</td>\n",
       "      <td>-0.05</td>\n",
       "      <td>0.03</td>\n",
       "      <td>0.0</td>\n",
       "      <td>0.0</td>\n",
       "      <td>5660.68</td>\n",
       "      <td>3250.72</td>\n",
       "      <td>1.0</td>\n",
       "    </tr>\n",
       "    <tr>\n",
       "      <th>risk_sensitivity</th>\n",
       "      <td>-0.33</td>\n",
       "      <td>0.04</td>\n",
       "      <td>-0.42</td>\n",
       "      <td>-0.25</td>\n",
       "      <td>0.0</td>\n",
       "      <td>0.0</td>\n",
       "      <td>4944.79</td>\n",
       "      <td>3446.08</td>\n",
       "      <td>1.0</td>\n",
       "    </tr>\n",
       "    <tr>\n",
       "      <th>count_norm_sigma</th>\n",
       "      <td>0.16</td>\n",
       "      <td>0.02</td>\n",
       "      <td>0.13</td>\n",
       "      <td>0.20</td>\n",
       "      <td>0.0</td>\n",
       "      <td>0.0</td>\n",
       "      <td>4014.48</td>\n",
       "      <td>3226.89</td>\n",
       "      <td>1.0</td>\n",
       "    </tr>\n",
       "  </tbody>\n",
       "</table>\n",
       "</div>"
      ],
      "text/plain": [
       "                  mean    sd  hdi_2.5%  hdi_97.5%  mcse_mean  mcse_sd  \\\n",
       "Intercept         0.61  0.08      0.46       0.77        0.0      0.0   \n",
       "temperature      -0.01  0.02     -0.05       0.03        0.0      0.0   \n",
       "risk_sensitivity -0.33  0.04     -0.42      -0.25        0.0      0.0   \n",
       "count_norm_sigma  0.16  0.02      0.13       0.20        0.0      0.0   \n",
       "\n",
       "                  ess_bulk  ess_tail  r_hat  \n",
       "Intercept          4666.20   3299.74    1.0  \n",
       "temperature        5660.68   3250.72    1.0  \n",
       "risk_sensitivity   4944.79   3446.08    1.0  \n",
       "count_norm_sigma   4014.48   3226.89    1.0  "
      ]
     },
     "execution_count": 27,
     "metadata": {},
     "output_type": "execute_result"
    }
   ],
   "source": [
    "summary_A2 = az.summary(posterior_A2, hdi_prob=0.95, round_to=2)\n",
    "summary_A2"
   ]
  },
  {
   "cell_type": "code",
   "execution_count": 28,
   "metadata": {},
   "outputs": [
    {
     "data": {
      "image/png": "[encoded data removed]",
      "text/plain": [
       "<Figure size 184x160 with 1 Axes>"
      ]
     },
     "metadata": {},
     "output_type": "display_data"
    }
   ],
   "source": [
    "plt.figure(figsize=(2.3, 2))\n",
    "sns.kdeplot(posterior_A2.posterior['temperature'].values.flatten(), fill=True, label='Temp.')\n",
    "sns.kdeplot(posterior_A2.posterior['risk_sensitivity'].values.flatten(), fill=True, label='Risk sens.')\n",
    "plt.axvline(0, color='gray', linestyle=':')\n",
    "plt.xlabel('Parameter estimate')\n",
    "plt.ylabel('Posterior density')\n",
    "plt.yticks([])\n",
    "\n",
    "plt.legend()\n",
    "\n",
    "sns.despine()\n",
    "plt.tight_layout()\n"
   ]
  },
  {
   "cell_type": "code",
   "execution_count": 81,
   "metadata": {},
   "outputs": [
    {
     "data": {
      "image/png": "[encoded data removed]",
      "text/plain": [
       "<Figure size 288x128 with 2 Axes>"
      ]
     },
     "metadata": {},
     "output_type": "display_data"
    }
   ],
   "source": [
    "f, ax = plt.subplots(1, 2, figsize=(3.6, 1.6))\n",
    "\n",
    "sns.kdeplot(posterior_A1.posterior['temperature'].values.flatten(), fill=True, label='Temp.', ax=ax[0])\n",
    "sns.kdeplot(posterior_A1.posterior['risk_sensitivity'].values.flatten(), fill=True, label='Threat', ax=ax[0])\n",
    "ax[0].axvline(0, color='gray', linestyle=':')\n",
    "ax[0].set_xlabel('Value')\n",
    "ax[0].set_ylabel('Density')\n",
    "ax[0].set_yticks([])\n",
    "\n",
    "sns.kdeplot(posterior_A2.posterior['temperature'].values.flatten(), fill=True, label='Temp.', ax=ax[1])\n",
    "sns.kdeplot(posterior_A2.posterior['risk_sensitivity'].values.flatten(), fill=True, label='Threat\\nsens.', ax=ax[1])\n",
    "ax[1].axvline(0, color='gray', linestyle=':')\n",
    "ax[1].set_xlabel('Value')\n",
    "ax[1].set_ylabel('')\n",
    "ax[1].set_yticks([])\n",
    "\n",
    "# place legend to the right of the plot\n",
    "ax[1].legend(loc='center left', bbox_to_anchor=(1, 0.5))\n",
    "\n",
    "sns.despine()\n",
    "\n",
    "plt.tight_layout()\n",
    "\n",
    "plt.savefig('figures/exp-3_both_regression_posteriors.svg')\n",
    "plt.savefig('figures/exp-3_both_regression_posteriors.pdf')"
   ]
  },
  {
   "cell_type": "code",
   "execution_count": 38,
   "metadata": {},
   "outputs": [
    {
     "name": "stdout",
     "output_type": "stream",
     "text": [
      "Mean (SD) temp A1: 2.7128785 1.083093\n",
      "Mean (SD) temp A2: 3.026635 1.2730187\n",
      "Mean (SD) risk sens A1: 0.5619072 0.48686302\n",
      "Mean (SD) risk sens A2: 0.932932 0.5778193\n",
      "t_temp: -1.3972374513424572 118\n",
      "p_temp: 0.1649639883652308\n",
      "t_risk: -3.6610622558946724 118\n",
      "p_risk: 0.00037715802447310084\n"
     ]
    }
   ],
   "source": [
    "print('Mean (SD) temp A1:', np.mean(mean_estimated_params_A1[:, 0] * 5), np.std(mean_estimated_params_A1[:, 0] * 5))\n",
    "print('Mean (SD) temp A2:', np.mean(mean_estimated_params_A2[:, 0] * 5), np.std(mean_estimated_params_A2[:, 0] * 5))\n",
    "\n",
    "print('Mean (SD) risk sens A1:', np.mean(mean_estimated_params_A1[:, 1] * 2.5), np.std(mean_estimated_params_A1[:, 1] * 2.5))\n",
    "print('Mean (SD) risk sens A2:', np.mean(mean_estimated_params_A2[:, 1] * 2.5), np.std(mean_estimated_params_A2[:, 1] * 2.5))\n",
    "\n",
    "t_temp, p_temp = ttest_ind(mean_estimated_params_A1[:, 0] * 5, mean_estimated_params_A2[:, 0] * 5)\n",
    "t_risk, p_risk = ttest_ind(mean_estimated_params_A1[:, 1] * 2.5, mean_estimated_params_A2[:, 1] * 2.5)\n",
    "\n",
    "print('t_temp:', t_temp, len(mean_estimated_params_A1[:, 0] * 5) + len(mean_estimated_params_A2[:, 0] * 5) - 2)\n",
    "print('p_temp:', p_temp)\n",
    "\n",
    "print('t_risk:', t_risk, len(mean_estimated_params_A1[:, 0] * 5) + len(mean_estimated_params_A2[:, 0] * 5) - 2)\n",
    "print('p_risk:', p_risk)"
   ]
  }
 ],
 "metadata": {
  "kernelspec": {
   "display_name": "sbi",
   "language": "python",
   "name": "sbi"
  },
  "language_info": {
   "codemirror_mode": {
    "name": "ipython",
    "version": 3
   },
   "file_extension": ".py",
   "mimetype": "text/x-python",
   "name": "python",
   "nbconvert_exporter": "python",
   "pygments_lexer": "ipython3",
   "version": "3.9.13"
  },
  "orig_nbformat": 4,
  "vscode": {
   "interpreter": {
    "hash": "9aaa6385210b4d6c3a0e2465a2e9865159cf8c966716cd4103dbe6bce3531fa0"
   }
  }
 },
 "nbformat": 4,
 "nbformat_minor": 2
}
