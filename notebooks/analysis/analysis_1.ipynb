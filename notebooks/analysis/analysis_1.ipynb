{
 "cells": [
  {
   "cell_type": "markdown",
   "metadata": {
    "tags": []
   },
   "source": [
    "# **Modeling the mind of a predator: Interactive cognitive maps support flexible avoidance of dynamic threats**\n",
    "\n",
    "### Toby Wise, Caroline J Charpentier, Peter Dayan & Dean Mobbs\n",
    "\n",
    "## Analysis notebook 1 - Prediction, confidence and reward weight estimation\n",
    "\n",
    "This notebook contains code for analyses of predator move prediction data and reward weight estimates from Experiment 1."
   ]
  },
  {
   "cell_type": "markdown",
   "metadata": {},
   "source": [
    "## Imports"
   ]
  },
  {
   "cell_type": "code",
   "execution_count": 2,
   "metadata": {},
   "outputs": [
    {
     "name": "stderr",
     "output_type": "stream",
     "text": [
      "C:\\Users\\tobyw\\Miniconda3\\envs\\mne\\lib\\site-packages\\outdated\\utils.py:14: OutdatedPackageWarning: The package pingouin is out of date. Your version is 0.3.5, the latest is 0.5.0.\n",
      "Set the environment variable OUTDATED_IGNORE=1 to disable these warnings.\n",
      "  return warn(\n",
      "C:\\Users\\tobyw\\Miniconda3\\envs\\mne\\lib\\site-packages\\outdated\\utils.py:14: OutdatedPackageWarning: The package outdated is out of date. Your version is 0.2.0, the latest is 0.2.1.\n",
      "Set the environment variable OUTDATED_IGNORE=1 to disable these warnings.\n",
      "  return warn(\n"
     ]
    }
   ],
   "source": [
    "import pandas as pd\n",
    "import seaborn as sns\n",
    "import os\n",
    "import pingouin as pg\n",
    "import matplotlib.pyplot as plt\n",
    "import numpy as np\n",
    "import pymc3 as pm\n",
    "import theano.tensor as T\n",
    "import arviz as az\n",
    "from scipy.stats import ttest_1samp\n",
    "import pickle\n",
    "import matplotlib.font_manager\n",
    "import matplotlib\n",
    "import matplotlib.pyplot as plt\n",
    "import matplotlib as mpl\n",
    "mpl.style.use('toby2')\n",
    "plt.rcParams[\"font.family\"] = \"Heebo\""
   ]
  },
  {
   "cell_type": "markdown",
   "metadata": {},
   "source": [
    "## Load in data"
   ]
  },
  {
   "cell_type": "code",
   "execution_count": 3,
   "metadata": {},
   "outputs": [],
   "source": [
    "rating_dfs = []\n",
    "rt_dfs = []\n",
    "confidence_dfs = []\n",
    "prediction_dfs = []\n",
    "response_dfs = []\n",
    "\n",
    "output_dir = '../../data/'\n",
    "experiment = 'experiment-1'\n",
    "\n",
    "data_dfs = {'rating_data': rating_dfs, 'rt_data': rt_dfs, 'confidence_data': confidence_dfs, 'prediction_data': prediction_dfs, 'response_data': response_dfs}\n",
    "\n",
    "for data_type, df_list in data_dfs.items():\n",
    "    \n",
    "    data_type_dir = os.path.join(output_dir, data_type, experiment)\n",
    "    \n",
    "    conditions = os.listdir(data_type_dir)\n",
    "    \n",
    "    for c in conditions:\n",
    "        for i in os.listdir(os.path.join(data_type_dir, c)):\n",
    "            if '.csv' in i:\n",
    "                df = pd.read_csv(os.path.join(data_type_dir, c, i))\n",
    "                df_list.append(df)\n",
    "\n",
    "rating_df = pd.concat(rating_dfs)\n",
    "rt_df = pd.concat(rt_dfs)\n",
    "confidence_df = pd.concat(confidence_dfs)\n",
    "prediction_df = pd.concat(prediction_dfs)\n",
    "response_df = pd.concat(response_dfs)"
   ]
  },
  {
   "cell_type": "markdown",
   "metadata": {},
   "source": [
    "### Separate prey and predator movements"
   ]
  },
  {
   "cell_type": "code",
   "execution_count": 273,
   "metadata": {},
   "outputs": [],
   "source": [
    "prey_df = response_df[response_df['agent'] == 'prey'].reset_index(drop=True)\n",
    "predator_df = response_df[response_df['agent'] == 'predator'].reset_index(drop=True)"
   ]
  },
  {
   "cell_type": "markdown",
   "metadata": {},
   "source": [
    "### Put dataframes in the right order\n",
    "\n",
    "Makes things a little easier later"
   ]
  },
  {
   "cell_type": "code",
   "execution_count": 274,
   "metadata": {},
   "outputs": [],
   "source": [
    "prediction_df = prediction_df.sort_values(['subjectID', 'exp', 'condition', 'env', 'trial', 'response_number']).reset_index(drop=True)\n",
    "predator_df = predator_df.sort_values(['subjectID', 'exp', 'condition', 'env', 'trial', 'response_number']).reset_index(drop=True)\n",
    "prey_df = prey_df.sort_values(['subjectID', 'exp', 'condition', 'env', 'trial', 'response_number']).reset_index(drop=True)"
   ]
  },
  {
   "cell_type": "markdown",
   "metadata": {},
   "source": [
    "### Load in environment data\n",
    "\n",
    "Information about the environments is stored in JSON files, we use a function from `maMDP` to load these in as `MDP` objects"
   ]
  },
  {
   "cell_type": "code",
   "execution_count": 275,
   "metadata": {},
   "outputs": [],
   "source": [
    "import json\n",
    "from maMDP.env_io import hex_environment_from_dict\n",
    "envs = {}\n",
    "for cond in ['A', 'B', 'C']:\n",
    "    with open('../../data/game_info/experiment-1/condition_{0}.json'.format(cond), 'r') as f:\n",
    "        game_info = json.load(f)\n",
    "    envs[cond] = [hex_environment_from_dict(env, ['Dirt', 'Trees', 'Reward']) for env in game_info['environments']]"
   ]
  },
  {
   "cell_type": "markdown",
   "metadata": {},
   "source": [
    "### Check that predictions and actual moves line up"
   ]
  },
  {
   "cell_type": "code",
   "execution_count": 276,
   "metadata": {},
   "outputs": [],
   "source": [
    "assert np.all(prediction_df['subjectID'] == predator_df['subjectID']), 'Subject ID columns do not match'\n",
    "assert np.all(prediction_df['condition'] == predator_df['condition']), 'Condition columns do not match'\n",
    "assert np.all(prediction_df['trial'] == predator_df['trial']), 'Trial columns do not match'\n",
    "assert np.all(prediction_df['response_number'] == predator_df['response_number']), 'Response number columns do not match'"
   ]
  },
  {
   "cell_type": "markdown",
   "metadata": {},
   "source": [
    "### Get numbers of subjects\n",
    "\n",
    "Note that some subject IDs are missing - problems in data saving were encountered fairly frequently due to an awkward Unity issue, so quite a few subjects were missing the occasional trial and were removed prior to analysis. "
   ]
  },
  {
   "cell_type": "code",
   "execution_count": 277,
   "metadata": {},
   "outputs": [
    {
     "name": "stdout",
     "output_type": "stream",
     "text": [
      "Condition A: 50 subjects\n",
      "Condition B: 50 subjects\n",
      "Condition C: 50 subjects\n"
     ]
    }
   ],
   "source": [
    "for c in prediction_df['condition'].unique():\n",
    "    print('Condition {0}: {1} subjects'.format(c, len(prediction_df[prediction_df['condition'] == c]['subjectID'].unique())))"
   ]
  },
  {
   "cell_type": "markdown",
   "metadata": {},
   "source": [
    "### Label as correct or incorrect predictions"
   ]
  },
  {
   "cell_type": "code",
   "execution_count": 278,
   "metadata": {},
   "outputs": [],
   "source": [
    "prediction_df['correct'] = predator_df['cellID'] == prediction_df['cellID']"
   ]
  },
  {
   "cell_type": "markdown",
   "metadata": {},
   "source": [
    "### Get proportion correct"
   ]
  },
  {
   "cell_type": "code",
   "execution_count": 279,
   "metadata": {},
   "outputs": [
    {
     "data": {
      "text/html": [
       "<div>\n",
       "<style scoped>\n",
       "    .dataframe tbody tr th:only-of-type {\n",
       "        vertical-align: middle;\n",
       "    }\n",
       "\n",
       "    .dataframe tbody tr th {\n",
       "        vertical-align: top;\n",
       "    }\n",
       "\n",
       "    .dataframe thead th {\n",
       "        text-align: right;\n",
       "    }\n",
       "</style>\n",
       "<table border=\"1\" class=\"dataframe\">\n",
       "  <thead>\n",
       "    <tr style=\"text-align: right;\">\n",
       "      <th></th>\n",
       "      <th>subjectID</th>\n",
       "      <th>Proportion correct</th>\n",
       "      <th>condition</th>\n",
       "      <th>response_number</th>\n",
       "    </tr>\n",
       "  </thead>\n",
       "  <tbody>\n",
       "    <tr>\n",
       "      <th>0</th>\n",
       "      <td>sub0000</td>\n",
       "      <td>0.675</td>\n",
       "      <td>A</td>\n",
       "      <td>0</td>\n",
       "    </tr>\n",
       "    <tr>\n",
       "      <th>2</th>\n",
       "      <td>sub0001</td>\n",
       "      <td>0.625</td>\n",
       "      <td>A</td>\n",
       "      <td>0</td>\n",
       "    </tr>\n",
       "    <tr>\n",
       "      <th>4</th>\n",
       "      <td>sub0002</td>\n",
       "      <td>0.575</td>\n",
       "      <td>A</td>\n",
       "      <td>0</td>\n",
       "    </tr>\n",
       "    <tr>\n",
       "      <th>6</th>\n",
       "      <td>sub0003</td>\n",
       "      <td>0.675</td>\n",
       "      <td>A</td>\n",
       "      <td>0</td>\n",
       "    </tr>\n",
       "    <tr>\n",
       "      <th>8</th>\n",
       "      <td>sub0004</td>\n",
       "      <td>0.775</td>\n",
       "      <td>A</td>\n",
       "      <td>0</td>\n",
       "    </tr>\n",
       "  </tbody>\n",
       "</table>\n",
       "</div>"
      ],
      "text/plain": [
       "  subjectID  Proportion correct condition  response_number\n",
       "0   sub0000               0.675         A                0\n",
       "2   sub0001               0.625         A                0\n",
       "4   sub0002               0.575         A                0\n",
       "6   sub0003               0.675         A                0\n",
       "8   sub0004               0.775         A                0"
      ]
     },
     "execution_count": 279,
     "metadata": {},
     "output_type": "execute_result"
    }
   ],
   "source": [
    "predictions_correct = prediction_df.groupby(['subjectID','condition', 'response_number']).mean().reset_index()[['subjectID', 'correct', 'condition','response_number']]\n",
    "predictions_correct = predictions_correct.rename(columns={'correct': 'Proportion correct'})\n",
    "\n",
    "# Only look at first prediction\n",
    "predictions_correct = predictions_correct[predictions_correct['response_number'] == 0]\n",
    "predictions_correct.head()"
   ]
  },
  {
   "cell_type": "markdown",
   "metadata": {},
   "source": [
    "### Rename variables and plot"
   ]
  },
  {
   "cell_type": "code",
   "execution_count": 10,
   "metadata": {},
   "outputs": [],
   "source": [
    "predictions_correct = predictions_correct.rename(columns={'condition': 'Reward weights'})"
   ]
  },
  {
   "cell_type": "code",
   "execution_count": 203,
   "metadata": {},
   "outputs": [
    {
     "data": {
      "image/png": "[encoded data removed]",
      "text/plain": [
       "<Figure size 432x160 with 3 Axes>"
      ]
     },
     "metadata": {
      "needs_background": "light"
     },
     "output_type": "display_data"
    }
   ],
   "source": [
    "f = sns.displot(predictions_correct, x=\"Proportion correct\", col=\"Reward weights\", hue=\"Reward weights\", height=2, aspect=.9, kind='kde', fill=True, legend=False)\n",
    "\n",
    "rw_labels = ['Prefers trees', 'Prefers red', 'Prefers prey']\n",
    "\n",
    "for i in range(len(predictions_correct['Reward weights'].unique())):\n",
    "    f.axes[0][i].axvline(1 / 6., color='gray', linestyle='--')  # Guessing\n",
    "    f.axes[0][i].set_xlim(0, 1)\n",
    "    f.axes[0][i].set_title(rw_labels[i])\n",
    "\n",
    "plt.tight_layout()\n",
    "plt.savefig('../../figures/Figure-2_predictions.svg')"
   ]
  },
  {
   "cell_type": "markdown",
   "metadata": {},
   "source": [
    "Then do t-tests to check that these proportions are significantly greater than chance (i.e. 1/6)"
   ]
  },
  {
   "cell_type": "code",
   "execution_count": 13,
   "metadata": {},
   "outputs": [
    {
     "name": "stdout",
     "output_type": "stream",
     "text": [
      "Condition A: T (49) = 20.2100353548217, p = 2.040337758571713e-25, d=5.716261218965719\n",
      "Condition B: T (49) = 23.08747501055969, p = 5.515166707038368e-28, d=6.530124056176685\n",
      "Condition C: T (49) = 27.1194366153494, p = 3.6377576016637708e-31, d=7.670535013068925\n"
     ]
    }
   ],
   "source": [
    "for cond in predictions_correct['Reward weights'].unique():\n",
    "\n",
    "    pcorrect = predictions_correct[predictions_correct['Reward weights'] == cond]['Proportion correct'].values\n",
    "    t, p = ttest_1samp(pcorrect, 1 / 6)\n",
    "    \n",
    "    print('Condition {0}: T ({1}) = {2}, p = {3}, d={4}'.format(cond, len(pcorrect) - 1, t, p, pg.compute_effsize_from_t(t, N=len(pcorrect), eftype='cohen')))"
   ]
  },
  {
   "cell_type": "markdown",
   "metadata": {},
   "source": [
    "## Predictions over time\n",
    "\n",
    "This looks at whether subjects' predictions improve over time, likely reflecting learning about the predator's behaviour.\n",
    "\n",
    "First, we look at the proportion of correct predictions (across subjects) at each trial."
   ]
  },
  {
   "cell_type": "code",
   "execution_count": 14,
   "metadata": {},
   "outputs": [
    {
     "data": {
      "text/html": [
       "<div>\n",
       "<style scoped>\n",
       "    .dataframe tbody tr th:only-of-type {\n",
       "        vertical-align: middle;\n",
       "    }\n",
       "\n",
       "    .dataframe tbody tr th {\n",
       "        vertical-align: top;\n",
       "    }\n",
       "\n",
       "    .dataframe thead th {\n",
       "        text-align: right;\n",
       "    }\n",
       "</style>\n",
       "<table border=\"1\" class=\"dataframe\">\n",
       "  <thead>\n",
       "    <tr style=\"text-align: right;\">\n",
       "      <th></th>\n",
       "      <th>trial</th>\n",
       "      <th>Proportion correct</th>\n",
       "      <th>condition</th>\n",
       "      <th>response_number</th>\n",
       "    </tr>\n",
       "  </thead>\n",
       "  <tbody>\n",
       "    <tr>\n",
       "      <th>0</th>\n",
       "      <td>0</td>\n",
       "      <td>0.475</td>\n",
       "      <td>A</td>\n",
       "      <td>0</td>\n",
       "    </tr>\n",
       "    <tr>\n",
       "      <th>2</th>\n",
       "      <td>1</td>\n",
       "      <td>0.600</td>\n",
       "      <td>A</td>\n",
       "      <td>0</td>\n",
       "    </tr>\n",
       "    <tr>\n",
       "      <th>4</th>\n",
       "      <td>2</td>\n",
       "      <td>0.640</td>\n",
       "      <td>A</td>\n",
       "      <td>0</td>\n",
       "    </tr>\n",
       "    <tr>\n",
       "      <th>6</th>\n",
       "      <td>3</td>\n",
       "      <td>0.790</td>\n",
       "      <td>A</td>\n",
       "      <td>0</td>\n",
       "    </tr>\n",
       "    <tr>\n",
       "      <th>8</th>\n",
       "      <td>4</td>\n",
       "      <td>0.730</td>\n",
       "      <td>A</td>\n",
       "      <td>0</td>\n",
       "    </tr>\n",
       "  </tbody>\n",
       "</table>\n",
       "</div>"
      ],
      "text/plain": [
       "   trial  Proportion correct condition  response_number\n",
       "0      0               0.475         A                0\n",
       "2      1               0.600         A                0\n",
       "4      2               0.640         A                0\n",
       "6      3               0.790         A                0\n",
       "8      4               0.730         A                0"
      ]
     },
     "execution_count": 14,
     "metadata": {},
     "output_type": "execute_result"
    }
   ],
   "source": [
    "predictions_correct_time = prediction_df.groupby(['condition', 'trial', 'response_number']).mean().reset_index()[['trial', 'correct', 'condition','response_number']]\n",
    "predictions_correct_time = predictions_correct_time.rename(columns={'correct': 'Proportion correct'})\n",
    "\n",
    "# Only look at first prediction\n",
    "predictions_correct_time = predictions_correct_time[predictions_correct_time['response_number'] == 0]\n",
    "predictions_correct_time.head()"
   ]
  },
  {
   "cell_type": "markdown",
   "metadata": {},
   "source": [
    "## Regression model\n",
    "\n",
    "For the purposes of modeling, we select only the first move and predict the likelihood of this being correct.\n",
    "\n",
    "This model is specified heirarchically (i.e. the subject-level regression $\\beta$ values are dependent upon group-level $\\beta$ parameters). A [non-centred parameterisation](https://mc-stan.org/docs/2_29/stan-users-guide/reparameterization.html#hierarchical-models-and-the-non-centered-parameterization) is used to improve parameter estimation."
   ]
  },
  {
   "cell_type": "code",
   "execution_count": 16,
   "metadata": {},
   "outputs": [],
   "source": [
    "prediction_df_first = prediction_df[prediction_df['response_number'] == 0]  # Get first move only\n",
    "\n",
    "n_subs = len(prediction_df_first['subjectID'].unique())\n",
    "subject_idx = np.arange(n_subs).repeat(len(prediction_df_first) / n_subs)\n",
    "\n",
    "with pm.Model() as prediction_model:\n",
    "    \n",
    "    trial_effect_mean = pm.Normal('trial_effect_mean', 0, 5)\n",
    "    trial_effect_sd = pm.HalfNormal('trial_effect_sd', 5)\n",
    "    trial_effect_offset = pm.Normal('trial_effect_offset', 0, 5, shape=n_subs)\n",
    "    trial_effect_subject = pm.Deterministic('trial_effect_subject', trial_effect_mean + trial_effect_offset * trial_effect_sd)\n",
    "    \n",
    "    game_effect_mean = pm.Normal('game_effect_mean', 0, 5)\n",
    "    game_effect_sd = pm.HalfNormal('game_effect_sd', 5)\n",
    "    game_effect_offset = pm.Normal('game_effect_offset', 0, 5, shape=n_subs)\n",
    "    game_effect_subject = pm.Deterministic('game_effect_subject', game_effect_mean + game_effect_offset * game_effect_sd)\n",
    "    \n",
    "    intercept_mean = pm.Normal('intercept_mean', 0, 5)\n",
    "    intercept_sd = pm.HalfNormal('intercept_sd', 5)\n",
    "    intercept_offset = pm.Normal('intercept_offset', 0, 5, shape=n_subs)\n",
    "    intercept_subject = pm.Deterministic('intercept_subject', intercept_mean + intercept_offset * intercept_sd)\n",
    "    \n",
    "    predicted_probability = pm.Deterministic('predicted_probability', pm.invlogit(intercept_subject[subject_idx] + trial_effect_subject[subject_idx] * (prediction_df_first['trial'] + 1) + game_effect_subject[subject_idx] * prediction_df_first['env']))\n",
    "    predicted_probability_group = pm.Deterministic('predicted_probability_group', pm.invlogit(intercept_mean.repeat(4)[:, None] + \\\n",
    "                                                                                              trial_effect_mean * (prediction_df_first['trial'].unique() + 1)[None, :].repeat(4, axis=0) + \\\n",
    "                                                                                              game_effect_mean * prediction_df_first['env'].unique()[:, None].repeat(len(prediction_df_first['trial'].unique()), axis=1)))\n",
    "    \n",
    "    ll = pm.Bernoulli('ll', predicted_probability, \n",
    "                      observed=prediction_df_first['correct'].astype(int))\n",
    "    "
   ]
  },
  {
   "cell_type": "markdown",
   "metadata": {},
   "source": [
    "### Sample"
   ]
  },
  {
   "cell_type": "code",
   "execution_count": 17,
   "metadata": {},
   "outputs": [
    {
     "name": "stderr",
     "output_type": "stream",
     "text": [
      "C:\\Users\\tobyw\\Miniconda3\\envs\\mne\\lib\\site-packages\\pymc3\\sampling.py:465: FutureWarning: In an upcoming release, pm.sample will return an `arviz.InferenceData` object instead of a `MultiTrace` by default. You can pass return_inferencedata=True or return_inferencedata=False to be safe and silence this warning.\n",
      "  warnings.warn(\n",
      "Auto-assigning NUTS sampler...\n",
      "Initializing NUTS using jitter+adapt_diag...\n",
      "Multiprocess sampling (4 chains in 4 jobs)\n",
      "NUTS: [intercept_offset, intercept_sd, intercept_mean, game_effect_offset, game_effect_sd, game_effect_mean, trial_effect_offset, trial_effect_sd, trial_effect_mean]\n"
     ]
    },
    {
     "data": {
      "text/html": [
       "\n",
       "    <div>\n",
       "        <style>\n",
       "            /* Turns off some styling */\n",
       "            progress {\n",
       "                /* gets rid of default border in Firefox and Opera. */\n",
       "                border: none;\n",
       "                /* Needs to be in here for Safari polyfill so background images work as expected. */\n",
       "                background-size: auto;\n",
       "            }\n",
       "            .progress-bar-interrupted, .progress-bar-interrupted::-webkit-progress-bar {\n",
       "                background: #F44336;\n",
       "            }\n",
       "        </style>\n",
       "      <progress value='20000' class='' max='20000' style='width:300px; height:20px; vertical-align: middle;'></progress>\n",
       "      100.00% [20000/20000 37:31<00:00 Sampling 4 chains, 0 divergences]\n",
       "    </div>\n",
       "    "
      ],
      "text/plain": [
       "<IPython.core.display.HTML object>"
      ]
     },
     "metadata": {},
     "output_type": "display_data"
    },
    {
     "name": "stderr",
     "output_type": "stream",
     "text": [
      "Sampling 4 chains for 1_000 tune and 4_000 draw iterations (4_000 + 16_000 draws total) took 2272 seconds.\n",
      "The number of effective samples is smaller than 10% for some parameters.\n"
     ]
    }
   ],
   "source": [
    "with prediction_model:\n",
    "    trace = pm.sample(4000, target_accept=0.99, random_seed=123)"
   ]
  },
  {
   "cell_type": "markdown",
   "metadata": {},
   "source": [
    "### Save trace"
   ]
  },
  {
   "cell_type": "code",
   "execution_count": 39,
   "metadata": {},
   "outputs": [],
   "source": [
    "with open('../../data/regression_models/predictions.pkl', 'wb') as f:\n",
    "    pickle.dump(trace, f)"
   ]
  },
  {
   "cell_type": "markdown",
   "metadata": {},
   "source": [
    "### Plot the group-level parameter estimates"
   ]
  },
  {
   "cell_type": "code",
   "execution_count": 43,
   "metadata": {},
   "outputs": [
    {
     "data": {
      "image/png": "[encoded data removed]",
      "text/plain": [
       "<Figure size 184x160 with 1 Axes>"
      ]
     },
     "metadata": {
      "needs_background": "light"
     },
     "output_type": "display_data"
    }
   ],
   "source": [
    "plt.figure(figsize=(2.3, 2))\n",
    "sns.kdeplot(trace['trial_effect_mean'], fill=True, label='Trial')\n",
    "sns.kdeplot(trace['game_effect_mean'], fill=True, label='Game')\n",
    "# plt.title('Trial effect posterior')\n",
    "plt.axvline(0, color='gray', linestyle=':')\n",
    "plt.xlabel('Parameter estimate')\n",
    "plt.ylabel('Posterior density')\n",
    "plt.yticks([])\n",
    "sns.despine()\n",
    "plt.tight_layout()\n",
    "\n",
    "predictions_ax = plt.gca()\n",
    "# plt.savefig('../../figures/pilot/Figure-2_trial_effect_parameter.svg')"
   ]
  },
  {
   "cell_type": "markdown",
   "metadata": {},
   "source": [
    "### Get a summary of the parameter estimates"
   ]
  },
  {
   "cell_type": "code",
   "execution_count": 19,
   "metadata": {},
   "outputs": [],
   "source": [
    "with prediction_model:\n",
    "    summary = az.summary(trace, var_names=['trial_effect_mean', 'game_effect_mean'], hdi_prob=.95)"
   ]
  },
  {
   "cell_type": "code",
   "execution_count": 20,
   "metadata": {},
   "outputs": [
    {
     "data": {
      "text/html": [
       "<div>\n",
       "<style scoped>\n",
       "    .dataframe tbody tr th:only-of-type {\n",
       "        vertical-align: middle;\n",
       "    }\n",
       "\n",
       "    .dataframe tbody tr th {\n",
       "        vertical-align: top;\n",
       "    }\n",
       "\n",
       "    .dataframe thead th {\n",
       "        text-align: right;\n",
       "    }\n",
       "</style>\n",
       "<table border=\"1\" class=\"dataframe\">\n",
       "  <thead>\n",
       "    <tr style=\"text-align: right;\">\n",
       "      <th></th>\n",
       "      <th>mean</th>\n",
       "      <th>sd</th>\n",
       "      <th>hdi_2.5%</th>\n",
       "      <th>hdi_97.5%</th>\n",
       "      <th>mcse_mean</th>\n",
       "      <th>mcse_sd</th>\n",
       "      <th>ess_bulk</th>\n",
       "      <th>ess_tail</th>\n",
       "      <th>r_hat</th>\n",
       "    </tr>\n",
       "  </thead>\n",
       "  <tbody>\n",
       "    <tr>\n",
       "      <th>trial_effect_mean</th>\n",
       "      <td>0.07</td>\n",
       "      <td>0.012</td>\n",
       "      <td>0.046</td>\n",
       "      <td>0.095</td>\n",
       "      <td>0.0</td>\n",
       "      <td>0.0</td>\n",
       "      <td>9011.0</td>\n",
       "      <td>10026.0</td>\n",
       "      <td>1.0</td>\n",
       "    </tr>\n",
       "    <tr>\n",
       "      <th>game_effect_mean</th>\n",
       "      <td>0.18</td>\n",
       "      <td>0.027</td>\n",
       "      <td>0.128</td>\n",
       "      <td>0.235</td>\n",
       "      <td>0.0</td>\n",
       "      <td>0.0</td>\n",
       "      <td>11488.0</td>\n",
       "      <td>12278.0</td>\n",
       "      <td>1.0</td>\n",
       "    </tr>\n",
       "  </tbody>\n",
       "</table>\n",
       "</div>"
      ],
      "text/plain": [
       "                   mean     sd  hdi_2.5%  hdi_97.5%  mcse_mean  mcse_sd  \\\n",
       "trial_effect_mean  0.07  0.012     0.046      0.095        0.0      0.0   \n",
       "game_effect_mean   0.18  0.027     0.128      0.235        0.0      0.0   \n",
       "\n",
       "                   ess_bulk  ess_tail  r_hat  \n",
       "trial_effect_mean    9011.0   10026.0    1.0  \n",
       "game_effect_mean    11488.0   12278.0    1.0  "
      ]
     },
     "execution_count": 20,
     "metadata": {},
     "output_type": "execute_result"
    }
   ],
   "source": [
    "summary"
   ]
  },
  {
   "cell_type": "markdown",
   "metadata": {},
   "source": [
    "### Use the posterior predictive distribution to demonstrate how P(correct) changes over the task"
   ]
  },
  {
   "cell_type": "code",
   "execution_count": 21,
   "metadata": {},
   "outputs": [
    {
     "data": {
      "text/html": [
       "\n",
       "    <div>\n",
       "        <style>\n",
       "            /* Turns off some styling */\n",
       "            progress {\n",
       "                /* gets rid of default border in Firefox and Opera. */\n",
       "                border: none;\n",
       "                /* Needs to be in here for Safari polyfill so background images work as expected. */\n",
       "                background-size: auto;\n",
       "            }\n",
       "            .progress-bar-interrupted, .progress-bar-interrupted::-webkit-progress-bar {\n",
       "                background: #F44336;\n",
       "            }\n",
       "        </style>\n",
       "      <progress value='16000' class='' max='16000' style='width:300px; height:20px; vertical-align: middle;'></progress>\n",
       "      100.00% [16000/16000 00:07<00:00]\n",
       "    </div>\n",
       "    "
      ],
      "text/plain": [
       "<IPython.core.display.HTML object>"
      ]
     },
     "metadata": {},
     "output_type": "display_data"
    }
   ],
   "source": [
    "with prediction_model:\n",
    "    ppc = pm.sample_posterior_predictive(trace, var_names=['predicted_probability_group'], random_seed=123)"
   ]
  },
  {
   "cell_type": "code",
   "execution_count": 205,
   "metadata": {},
   "outputs": [
    {
     "data": {
      "image/png": "[encoded data removed]",
      "text/plain": [
       "<Figure size 320x160 with 2 Axes>"
      ]
     },
     "metadata": {
      "needs_background": "light"
     },
     "output_type": "display_data"
    }
   ],
   "source": [
    "f, ax = plt.subplots(1, 2, figsize=(4, 2))\n",
    "\n",
    "# seq_pal = sns.light_palette('#006adb', n_colors=10)[2::2]\n",
    "seq_pal = sns.light_palette('#595959', n_colors=10)[2::2]\n",
    "\n",
    "for i in range(4):\n",
    "    m = ppc['predicted_probability_group'][:, i, :].mean(axis=0)\n",
    "    lower_hdpi = np.percentile(ppc['predicted_probability_group'][:, i, :], 2.5, axis=0)\n",
    "    upper_hdpi = np.percentile(ppc['predicted_probability_group'][:, i, :], 97.5, axis=0)\n",
    "\n",
    "    ax[0].fill_between(prediction_df_first['trial'].unique(), lower_hdpi, upper_hdpi, alpha=0.3, color=seq_pal[i])\n",
    "    ax[0].plot(prediction_df_first['trial'].unique(), m, color=seq_pal[i])\n",
    "    \n",
    "# plt.title('Posterior probability of\\ncorrect prediction')\n",
    "ax[0].set_xlabel('Trial number')\n",
    "ax[0].set_ylabel('Probability of\\ncorrect response')\n",
    "\n",
    "ax[0].set_xticks(range(0, prediction_df_first['trial'].max() + 1, 2))\n",
    "ax[0].set_xticklabels(np.arange(0, prediction_df_first['trial'].max() + 1, 2) + 1)\n",
    "\n",
    "sns.kdeplot(trace['trial_effect_mean'], fill=True, label='Trial', ax=ax[1], color=seq_pal[-1])\n",
    "sns.kdeplot(trace['game_effect_mean'], fill=True, label='Game', ax=ax[1], color=seq_pal[1])\n",
    "ax[1].set_yticks([])\n",
    "ax[1].set_xlabel('Parameter value')\n",
    "ax[1].axvline(0, linestyle=':', color='gray')\n",
    "ax[1].legend()\n",
    "\n",
    "sns.despine()\n",
    "\n",
    "plt.tight_layout()\n",
    "\n",
    "plt.savefig('../../figures/Figure-2_trial_effect_posterior_predictive_grey.svg')"
   ]
  },
  {
   "cell_type": "markdown",
   "metadata": {},
   "source": [
    "## Confidence\n",
    "\n",
    "A similar hierarchical Bayesian model is used to explain confidence over the course of the task"
   ]
  },
  {
   "cell_type": "code",
   "execution_count": 23,
   "metadata": {},
   "outputs": [
    {
     "data": {
      "text/html": [
       "<div>\n",
       "<style scoped>\n",
       "    .dataframe tbody tr th:only-of-type {\n",
       "        vertical-align: middle;\n",
       "    }\n",
       "\n",
       "    .dataframe tbody tr th {\n",
       "        vertical-align: top;\n",
       "    }\n",
       "\n",
       "    .dataframe thead th {\n",
       "        text-align: right;\n",
       "    }\n",
       "</style>\n",
       "<table border=\"1\" class=\"dataframe\">\n",
       "  <thead>\n",
       "    <tr style=\"text-align: right;\">\n",
       "      <th></th>\n",
       "      <th>env</th>\n",
       "      <th>trial</th>\n",
       "      <th>response_number</th>\n",
       "      <th>confidence</th>\n",
       "      <th>subjectID</th>\n",
       "      <th>exp</th>\n",
       "      <th>condition</th>\n",
       "    </tr>\n",
       "  </thead>\n",
       "  <tbody>\n",
       "    <tr>\n",
       "      <th>0</th>\n",
       "      <td>1</td>\n",
       "      <td>0</td>\n",
       "      <td>0</td>\n",
       "      <td>0.994071</td>\n",
       "      <td>sub0000</td>\n",
       "      <td>1</td>\n",
       "      <td>A</td>\n",
       "    </tr>\n",
       "    <tr>\n",
       "      <th>1</th>\n",
       "      <td>1</td>\n",
       "      <td>1</td>\n",
       "      <td>0</td>\n",
       "      <td>1.000000</td>\n",
       "      <td>sub0000</td>\n",
       "      <td>1</td>\n",
       "      <td>A</td>\n",
       "    </tr>\n",
       "    <tr>\n",
       "      <th>2</th>\n",
       "      <td>1</td>\n",
       "      <td>2</td>\n",
       "      <td>0</td>\n",
       "      <td>1.000000</td>\n",
       "      <td>sub0000</td>\n",
       "      <td>1</td>\n",
       "      <td>A</td>\n",
       "    </tr>\n",
       "    <tr>\n",
       "      <th>3</th>\n",
       "      <td>1</td>\n",
       "      <td>3</td>\n",
       "      <td>0</td>\n",
       "      <td>1.000000</td>\n",
       "      <td>sub0000</td>\n",
       "      <td>1</td>\n",
       "      <td>A</td>\n",
       "    </tr>\n",
       "    <tr>\n",
       "      <th>4</th>\n",
       "      <td>1</td>\n",
       "      <td>4</td>\n",
       "      <td>0</td>\n",
       "      <td>0.865335</td>\n",
       "      <td>sub0000</td>\n",
       "      <td>1</td>\n",
       "      <td>A</td>\n",
       "    </tr>\n",
       "  </tbody>\n",
       "</table>\n",
       "</div>"
      ],
      "text/plain": [
       "   env  trial  response_number  confidence subjectID  exp condition\n",
       "0    1      0                0    0.994071   sub0000    1         A\n",
       "1    1      1                0    1.000000   sub0000    1         A\n",
       "2    1      2                0    1.000000   sub0000    1         A\n",
       "3    1      3                0    1.000000   sub0000    1         A\n",
       "4    1      4                0    0.865335   sub0000    1         A"
      ]
     },
     "execution_count": 23,
     "metadata": {},
     "output_type": "execute_result"
    }
   ],
   "source": [
    "confidence_df = confidence_df.sort_values(['subjectID', 'exp', 'condition', 'env', 'trial', 'response_number']).reset_index(drop=True)\n",
    "confidence_df.head()"
   ]
  },
  {
   "cell_type": "markdown",
   "metadata": {},
   "source": [
    "This model uses a beta likelihood as confidence is bounded between 0 and 1, and use Bambi to specify the model."
   ]
  },
  {
   "cell_type": "code",
   "execution_count": 27,
   "metadata": {},
   "outputs": [
    {
     "name": "stderr",
     "output_type": "stream",
     "text": [
      "Auto-assigning NUTS sampler...\n",
      "Initializing NUTS using jitter+adapt_diag...\n",
      "Multiprocess sampling (4 chains in 4 jobs)\n",
      "NUTS: [confidence_fixed_kappa, trial|subjectID_offset, trial|subjectID_sigma, env|subjectID_offset, env|subjectID_sigma, 1|subjectID_offset, 1|subjectID_sigma, Intercept, trial, env]\n"
     ]
    },
    {
     "data": {
      "text/html": [
       "\n",
       "    <div>\n",
       "        <style>\n",
       "            /* Turns off some styling */\n",
       "            progress {\n",
       "                /* gets rid of default border in Firefox and Opera. */\n",
       "                border: none;\n",
       "                /* Needs to be in here for Safari polyfill so background images work as expected. */\n",
       "                background-size: auto;\n",
       "            }\n",
       "            .progress-bar-interrupted, .progress-bar-interrupted::-webkit-progress-bar {\n",
       "                background: #F44336;\n",
       "            }\n",
       "        </style>\n",
       "      <progress value='20000' class='' max='20000' style='width:300px; height:20px; vertical-align: middle;'></progress>\n",
       "      100.00% [20000/20000 43:14<00:00 Sampling 4 chains, 0 divergences]\n",
       "    </div>\n",
       "    "
      ],
      "text/plain": [
       "<IPython.core.display.HTML object>"
      ]
     },
     "metadata": {},
     "output_type": "display_data"
    },
    {
     "name": "stderr",
     "output_type": "stream",
     "text": [
      "Sampling 4 chains for 1_000 tune and 4_000 draw iterations (4_000 + 16_000 draws total) took 2614 seconds.\n"
     ]
    }
   ],
   "source": [
    "confidence_df[''] = confidence_df['confidence'].values.copy()\n",
    "confidence_df['confidence_fixed'] = (confidence_df['confidence_fixed'] * (np.prod(confidence_df['confidence_fixed'].shape) - 1) + 0.5) / np.prod(confidence_df['confidence_fixed'].shape)\n",
    "\n",
    "import bambi as bmb\n",
    "model = bmb.Model(\"confidence_fixed ~ 1 + env + trial + (1|subjectID) + (env|subjectID) + (trial|subjectID)\", data=confidence_df[~confidence_df['confidence'].isnull()], family='beta')\n",
    "fitted = model.fit(draws=4000, random_seed=123)"
   ]
  },
  {
   "cell_type": "markdown",
   "metadata": {},
   "source": [
    "### Save output"
   ]
  },
  {
   "cell_type": "code",
   "execution_count": 41,
   "metadata": {},
   "outputs": [
    {
     "data": {
      "text/plain": [
       "'../../data/regression_models/confidence.nc'"
      ]
     },
     "execution_count": 41,
     "metadata": {},
     "output_type": "execute_result"
    }
   ],
   "source": [
    "az.to_netcdf(fitted, '../../data/regression_models/confidence.nc')"
   ]
  },
  {
   "cell_type": "markdown",
   "metadata": {},
   "source": [
    "### Plot posteriors for the group-level parameters"
   ]
  },
  {
   "cell_type": "code",
   "execution_count": 106,
   "metadata": {},
   "outputs": [
    {
     "data": {
      "image/png": "[encoded data removed]",
      "text/plain": [
       "<Figure size 280x200 with 1 Axes>"
      ]
     },
     "metadata": {
      "needs_background": "light"
     },
     "output_type": "display_data"
    }
   ],
   "source": [
    "plt.figure(figsize=(3.5, 2.5))\n",
    "sns.kdeplot(fitted.posterior[\"trial\"].stack(draws=(\"chain\", \"draw\")).values, fill=True, label='Trial')\n",
    "sns.kdeplot(fitted.posterior[\"env\"].stack(draws=(\"chain\", \"draw\")).values, fill=True, label='Game')\n",
    "plt.legend()\n",
    "plt.axvline(0, color='gray', linestyle=':')\n",
    "plt.xlabel('Value')\n",
    "plt.yticks([])\n",
    "sns.despine()\n",
    "\n",
    "confidence_ax = plt.gca()"
   ]
  },
  {
   "cell_type": "code",
   "execution_count": 29,
   "metadata": {},
   "outputs": [
    {
     "data": {
      "text/html": [
       "<div>\n",
       "<style scoped>\n",
       "    .dataframe tbody tr th:only-of-type {\n",
       "        vertical-align: middle;\n",
       "    }\n",
       "\n",
       "    .dataframe tbody tr th {\n",
       "        vertical-align: top;\n",
       "    }\n",
       "\n",
       "    .dataframe thead th {\n",
       "        text-align: right;\n",
       "    }\n",
       "</style>\n",
       "<table border=\"1\" class=\"dataframe\">\n",
       "  <thead>\n",
       "    <tr style=\"text-align: right;\">\n",
       "      <th></th>\n",
       "      <th>mean</th>\n",
       "      <th>sd</th>\n",
       "      <th>hdi_2.5%</th>\n",
       "      <th>hdi_97.5%</th>\n",
       "      <th>mcse_mean</th>\n",
       "      <th>mcse_sd</th>\n",
       "      <th>ess_bulk</th>\n",
       "      <th>ess_tail</th>\n",
       "      <th>r_hat</th>\n",
       "    </tr>\n",
       "  </thead>\n",
       "  <tbody>\n",
       "    <tr>\n",
       "      <th>trial</th>\n",
       "      <td>0.096</td>\n",
       "      <td>0.011</td>\n",
       "      <td>0.075</td>\n",
       "      <td>0.117</td>\n",
       "      <td>0.0</td>\n",
       "      <td>0.0</td>\n",
       "      <td>9902.0</td>\n",
       "      <td>11262.0</td>\n",
       "      <td>1.0</td>\n",
       "    </tr>\n",
       "    <tr>\n",
       "      <th>env</th>\n",
       "      <td>0.197</td>\n",
       "      <td>0.032</td>\n",
       "      <td>0.137</td>\n",
       "      <td>0.260</td>\n",
       "      <td>0.0</td>\n",
       "      <td>0.0</td>\n",
       "      <td>7045.0</td>\n",
       "      <td>9711.0</td>\n",
       "      <td>1.0</td>\n",
       "    </tr>\n",
       "  </tbody>\n",
       "</table>\n",
       "</div>"
      ],
      "text/plain": [
       "        mean     sd  hdi_2.5%  hdi_97.5%  mcse_mean  mcse_sd  ess_bulk  \\\n",
       "trial  0.096  0.011     0.075      0.117        0.0      0.0    9902.0   \n",
       "env    0.197  0.032     0.137      0.260        0.0      0.0    7045.0   \n",
       "\n",
       "       ess_tail  r_hat  \n",
       "trial   11262.0    1.0  \n",
       "env      9711.0    1.0  "
      ]
     },
     "execution_count": 29,
     "metadata": {},
     "output_type": "execute_result"
    }
   ],
   "source": [
    "az.summary(fitted, var_names=['trial', 'env'], hdi_prob=.95)"
   ]
  },
  {
   "cell_type": "markdown",
   "metadata": {},
   "source": [
    "### Predict using the model parameters' posterior distributions"
   ]
  },
  {
   "cell_type": "code",
   "execution_count": 30,
   "metadata": {},
   "outputs": [],
   "source": [
    "pred = (fitted.posterior[\"Intercept\"].stack(draws=(\"chain\", \"draw\")).values[:, None, None] + \\\n",
    "         fitted.posterior[\"trial\"].stack(draws=(\"chain\", \"draw\")).values[:, None, None] * (prediction_df_first['trial'].unique() + 1)[None, :].repeat(4, axis=0).T[None, ...] + \\\n",
    "         fitted.posterior[\"env\"].stack(draws=(\"chain\", \"draw\")).values[:, None, None] + prediction_df_first['env'].unique()[:, None].repeat(len(prediction_df_first['trial'].unique()), axis=1).T[None, ...])"
   ]
  },
  {
   "cell_type": "code",
   "execution_count": 328,
   "metadata": {},
   "outputs": [
    {
     "data": {
      "image/png": "[encoded data removed]",
      "text/plain": [
       "<Figure size 320x160 with 2 Axes>"
      ]
     },
     "metadata": {
      "needs_background": "light"
     },
     "output_type": "display_data"
    }
   ],
   "source": [
    "f, ax = plt.subplots(1, 2, figsize=(4, 2))\n",
    "\n",
    "# seq_pal = sns.light_palette('#006adb', n_colors=10)[2::2]\n",
    "seq_pal = sns.light_palette('#595959', n_colors=10)[2::2]\n",
    "\n",
    "for i in range(4):\n",
    "    m = pred[..., i].mean(axis=0)\n",
    "    lower_hdpi = np.percentile(pred[..., i], 2.5, axis=0)\n",
    "    upper_hdpi = np.percentile(pred[..., i], 97.5, axis=0)\n",
    "\n",
    "    ax[0].fill_between(prediction_df_first['trial'].unique(), lower_hdpi, upper_hdpi, alpha=0.3, color=seq_pal[i])\n",
    "    ax[0].plot(prediction_df_first['trial'].unique(), m, color=seq_pal[i])\n",
    "    \n",
    "# plt.title('Posterior probability of\\ncorrect prediction')\n",
    "ax[0].set_xlabel('Trial number')\n",
    "ax[0].set_ylabel('Predicted\\nconfidence')\n",
    "\n",
    "ax[0].set_xticks(range(0, prediction_df_first['trial'].max() + 1, 2))\n",
    "ax[0].set_xticklabels(np.arange(0, prediction_df_first['trial'].max() + 1, 2) + 1)\n",
    "\n",
    "sns.kdeplot(fitted.posterior[\"trial\"].stack(draws=(\"chain\", \"draw\")).values, fill=True, label='Trial', ax=ax[1], color=seq_pal[-1])\n",
    "sns.kdeplot(fitted.posterior[\"env\"].stack(draws=(\"chain\", \"draw\")).values, fill=True, label='Game', ax=ax[1], color=seq_pal[1])\n",
    "ax[1].set_yticks([])\n",
    "ax[1].set_xlabel('Parameter value')\n",
    "ax[1].axvline(0, linestyle=':', color='gray')\n",
    "ax[1].legend(loc='upper right')\n",
    "\n",
    "sns.despine()\n",
    "\n",
    "plt.tight_layout()\n",
    "\n",
    "plt.savefig('../../figures/Figure-2_confidence_trial_effect_posterior_predictive_grey.svg')"
   ]
  },
  {
   "cell_type": "markdown",
   "metadata": {},
   "source": [
    "## Ratings"
   ]
  },
  {
   "cell_type": "code",
   "execution_count": 280,
   "metadata": {},
   "outputs": [],
   "source": [
    "rating_df = rating_df.sort_values(['subjectID', 'exp', 'condition', 'env']).reset_index(drop=True)\n",
    "rating_df = rating_df[rating_df['env'] != 0]  # remove training environment\n",
    "rating_df.head()\n",
    "rating_df['Reward weights'] = rating_df['condition']\n",
    "rating_df = rating_df.rename(columns={'rating': 'Rating'})\n",
    "rating_df['feature'] = rating_df['feature'].str.capitalize()"
   ]
  },
  {
   "cell_type": "code",
   "execution_count": 281,
   "metadata": {},
   "outputs": [],
   "source": [
    "rating_df['error'] = 0\n",
    "rating_df.loc[(rating_df['Reward weights'] == 'A') & (rating_df['feature'] == 'Trees'), 'error'] = 4 - rating_df.loc[(rating_df['Reward weights'] == 'A') & (rating_df['feature'] == 'Trees'), 'Rating']\n",
    "rating_df.loc[(rating_df['Reward weights'] == 'A') & (rating_df['feature'] == 'Prey'), 'error'] = 0 - rating_df.loc[(rating_df['Reward weights'] == 'A') & (rating_df['feature'] == 'Prey'), 'Rating']\n",
    "rating_df.loc[(rating_df['Reward weights'] == 'A') & (rating_df['feature'] == 'Red'), 'error'] = 0 - rating_df.loc[(rating_df['Reward weights'] == 'A') & (rating_df['feature'] == 'Red'), 'Rating']\n",
    "\n",
    "rating_df.loc[(rating_df['Reward weights'] == 'B') & (rating_df['feature'] == 'Trees'), 'error'] = 0 - rating_df.loc[(rating_df['Reward weights'] == 'B') & (rating_df['feature'] == 'Trees'), 'Rating']\n",
    "rating_df.loc[(rating_df['Reward weights'] == 'B') & (rating_df['feature'] == 'Prey'), 'error'] = 0 - rating_df.loc[(rating_df['Reward weights'] == 'B') & (rating_df['feature'] == 'Prey'), 'Rating']\n",
    "rating_df.loc[(rating_df['Reward weights'] == 'B') & (rating_df['feature'] == 'Red'), 'error'] = 4 - rating_df.loc[(rating_df['Reward weights'] == 'B') & (rating_df['feature'] == 'Red'), 'Rating']\n",
    "\n",
    "rating_df.loc[(rating_df['Reward weights'] == 'C') & (rating_df['feature'] == 'Trees'), 'error'] = 0 - rating_df.loc[(rating_df['Reward weights'] == 'C') & (rating_df['feature'] == 'Trees'), 'Rating']\n",
    "rating_df.loc[(rating_df['Reward weights'] == 'C') & (rating_df['feature'] == 'Prey'), 'error'] = 4 - rating_df.loc[(rating_df['Reward weights'] == 'C') & (rating_df['feature'] == 'Prey'), 'Rating']\n",
    "rating_df.loc[(rating_df['Reward weights'] == 'C') & (rating_df['feature'] == 'Red'), 'error'] = 0 - rating_df.loc[(rating_df['Reward weights'] == 'C') & (rating_df['feature'] == 'Red'), 'Rating']"
   ]
  },
  {
   "cell_type": "markdown",
   "metadata": {},
   "source": [
    "### Get absolute error"
   ]
  },
  {
   "cell_type": "code",
   "execution_count": 282,
   "metadata": {},
   "outputs": [],
   "source": [
    "rating_df['error'] = np.abs(rating_df['error'])"
   ]
  },
  {
   "cell_type": "markdown",
   "metadata": {
    "tags": []
   },
   "source": [
    "### Expected error under the null hypothesis"
   ]
  },
  {
   "cell_type": "code",
   "execution_count": 283,
   "metadata": {},
   "outputs": [],
   "source": [
    "expected_error = 4  # Assuming subject learns nothing and rates everything as zero - most conservative null"
   ]
  },
  {
   "cell_type": "code",
   "execution_count": 284,
   "metadata": {},
   "outputs": [
    {
     "name": "stdout",
     "output_type": "stream",
     "text": [
      "t (49) = -21.961912814393862, p = 5.167031133660434e-27, d= -6.211766991554254\n",
      "t (49) = -27.619302501090903, p = 1.56878342473246e-31, d= -7.81191843606558\n",
      "t (49) = -20.34574256348068, p = 1.5210843608409588e-25, d= -5.754645013965184\n"
     ]
    }
   ],
   "source": [
    "for cond in ['A', 'B', 'C']:\n",
    "\n",
    "    observed_error = rating_df[rating_df['Reward weights'] == cond].groupby(['subjectID']).mean().reset_index()['error']\n",
    "    t, p = ttest_1samp(observed_error, 4)\n",
    "\n",
    "    print('t ({0}) = {1}, p = {2}, d= {3}'.format(len(observed_error)-1, t, p, pg.compute_effsize_from_t(t, N=len(pcorrect), eftype='cohen')))"
   ]
  },
  {
   "cell_type": "code",
   "execution_count": 285,
   "metadata": {},
   "outputs": [],
   "source": [
    "rating_df['Reward weights'] = rating_df['Reward weights'].replace({'A': 'Prefers trees', 'B': 'Prefers red', 'C': 'Prefers prey'})"
   ]
  },
  {
   "cell_type": "code",
   "execution_count": 320,
   "metadata": {},
   "outputs": [
    {
     "name": "stderr",
     "output_type": "stream",
     "text": [
      "C:\\Users\\tobyw\\Miniconda3\\envs\\mne\\lib\\site-packages\\seaborn\\_decorators.py:36: FutureWarning: Pass the following variables as keyword args: x, y. From version 0.12, the only valid positional argument will be `data`, and passing other arguments without an explicit keyword will result in an error or misinterpretation.\n",
      "  warnings.warn(\n",
      "C:\\Users\\tobyw\\Miniconda3\\envs\\mne\\lib\\site-packages\\seaborn\\_decorators.py:36: FutureWarning: Pass the following variables as keyword args: x, y. From version 0.12, the only valid positional argument will be `data`, and passing other arguments without an explicit keyword will result in an error or misinterpretation.\n",
      "  warnings.warn(\n"
     ]
    },
    {
     "data": {
      "image/png": "[encoded data removed]",
      "text/plain": [
       "<Figure size 320x224 with 1 Axes>"
      ]
     },
     "metadata": {
      "needs_background": "light"
     },
     "output_type": "display_data"
    }
   ],
   "source": [
    "f, ax = plt.subplots(1, 1, figsize=(4, 2.8))\n",
    "\n",
    "ax.axhline(0, color='gray', linestyle=':')\n",
    "sns.stripplot('Reward weights', 'Rating', hue='feature', data=rating_df[rating_df['env'] == 4], dodge=True, alpha=0.15, ax=ax, zorder=-1, hue_order=['Trees', 'Red', 'Prey'])\n",
    "sns.barplot('Reward weights', 'Rating', hue='feature', data=rating_df[rating_df['env'] == 4], alpha=0.5, capsize=.05, errwidth=0.8, ax=ax, hue_order=['Trees', 'Red', 'Prey'])\n",
    "\n",
    "sns.despine()\n",
    "handles, labels = ax.get_legend_handles_labels()\n",
    "ax.legend(handles[:3], labels[:3], title='Feature', loc='center', bbox_to_anchor=(.5, 1.2), ncol=3)\n",
    "\n",
    "plt.tight_layout()\n",
    "plt.savefig('../../figures/Figure-2_subject_reward_weight_predictions.svg')"
   ]
  },
  {
   "cell_type": "markdown",
   "metadata": {},
   "source": [
    "### Proportion of subjects performing above chance"
   ]
  },
  {
   "cell_type": "code",
   "execution_count": 287,
   "metadata": {},
   "outputs": [
    {
     "data": {
      "text/plain": [
       "0.9933333333333333"
      ]
     },
     "execution_count": 287,
     "metadata": {},
     "output_type": "execute_result"
    }
   ],
   "source": [
    "observed_error = rating_df.groupby(['subjectID']).mean().reset_index()['error']\n",
    "(observed_error < 4).sum() / len(observed_error)"
   ]
  },
  {
   "cell_type": "code",
   "execution_count": 326,
   "metadata": {},
   "outputs": [
    {
     "data": {
      "image/png": "[encoded data removed]",
      "text/plain": [
       "<Figure size 168x144 with 1 Axes>"
      ]
     },
     "metadata": {
      "needs_background": "light"
     },
     "output_type": "display_data"
    }
   ],
   "source": [
    "plt.figure(figsize=(2.1, 1.8))\n",
    "\n",
    "sns.kdeplot(observed_error, fill=True, clip=(0, None))\n",
    "plt.axvline(4, color='gray', linestyle=':')\n",
    "plt.xlim(0, 5)\n",
    "plt.xlabel('Error')\n",
    "sns.despine()\n",
    "plt.tight_layout()\n",
    "plt.savefig('../../figures/Figure-2_subject_reward_weight_error.svg')"
   ]
  }
 ],
 "metadata": {
  "kernelspec": {
   "display_name": "mne",
   "language": "python",
   "name": "mne"
  },
  "language_info": {
   "codemirror_mode": {
    "name": "ipython",
    "version": 3
   },
   "file_extension": ".py",
   "mimetype": "text/x-python",
   "name": "python",
   "nbconvert_exporter": "python",
   "pygments_lexer": "ipython3",
   "version": "3.8.12"
  }
 },
 "nbformat": 4,
 "nbformat_minor": 4
}
